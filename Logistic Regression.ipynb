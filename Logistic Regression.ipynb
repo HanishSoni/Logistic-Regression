{
 "cells": [
  {
   "cell_type": "markdown",
   "metadata": {},
   "source": [
    "# Logistic Regression"
   ]
  },
  {
   "cell_type": "markdown",
   "metadata": {},
   "source": [
    "## We have taken Amazon Dataset and applied Logistic regression to evaluate value of c so as to get the value of lambda where c= 1/lambda.Also We have used GridsearchCV with L1 and L2 distance and RandomsearchCV with L1 and L2 distance."
   ]
  },
  {
   "cell_type": "code",
   "execution_count": 1,
   "metadata": {},
   "outputs": [
    {
     "name": "stderr",
     "output_type": "stream",
     "text": [
      "C:\\Users\\Soni\\Anaconda3\\lib\\site-packages\\sklearn\\cross_validation.py:41: DeprecationWarning: This module was deprecated in version 0.18 in favor of the model_selection module into which all the refactored classes and functions are moved. Also note that the interface of the new CV iterators are different from that of this module. This module will be removed in 0.20.\n",
      "  \"This module will be removed in 0.20.\", DeprecationWarning)\n"
     ]
    }
   ],
   "source": [
    "%matplotlib inline\n",
    "import warnings\n",
    "warnings.filterwarnings(\"ignore\")\n",
    "import sqlite3\n",
    "import pandas as pd\n",
    "import numpy as np\n",
    "from sklearn.cross_validation import train_test_split\n",
    "import string\n",
    "from gensim.models import Word2Vec\n",
    "from gensim.models import KeyedVectors\n",
    "from scipy import stats\n",
    "\n",
    "import matplotlib.pyplot as plt\n",
    "from sklearn import datasets, neighbors\n",
    "from sklearn.metrics import accuracy_score\n",
    "from sklearn.feature_extraction.text import CountVectorizer\n",
    "\n",
    "from sklearn.metrics import mean_squared_error\n",
    "from sklearn.metrics import f1_score\n"
   ]
  },
  {
   "cell_type": "markdown",
   "metadata": {},
   "source": [
    "## Loading the Amazon Text Review Dataset and cleaning,Pre-processing,removing stop words and sorting it with the time."
   ]
  },
  {
   "cell_type": "code",
   "execution_count": 2,
   "metadata": {},
   "outputs": [],
   "source": [
    "conn = sqlite3.connect('final.sqlite')#Loading the Data set\n",
    "final = pd.read_sql_query(\"\"\" SELECT * FROM Reviews WHERE Score != 3 \"\"\", conn)"
   ]
  },
  {
   "cell_type": "code",
   "execution_count": 3,
   "metadata": {},
   "outputs": [
    {
     "data": {
      "text/html": [
       "<div>\n",
       "<style scoped>\n",
       "    .dataframe tbody tr th:only-of-type {\n",
       "        vertical-align: middle;\n",
       "    }\n",
       "\n",
       "    .dataframe tbody tr th {\n",
       "        vertical-align: top;\n",
       "    }\n",
       "\n",
       "    .dataframe thead th {\n",
       "        text-align: right;\n",
       "    }\n",
       "</style>\n",
       "<table border=\"1\" class=\"dataframe\">\n",
       "  <thead>\n",
       "    <tr style=\"text-align: right;\">\n",
       "      <th></th>\n",
       "      <th>index</th>\n",
       "      <th>Id</th>\n",
       "      <th>ProductId</th>\n",
       "      <th>UserId</th>\n",
       "      <th>ProfileName</th>\n",
       "      <th>HelpfulnessNumerator</th>\n",
       "      <th>HelpfulnessDenominator</th>\n",
       "      <th>Score</th>\n",
       "      <th>Time</th>\n",
       "      <th>Summary</th>\n",
       "      <th>Text</th>\n",
       "      <th>CleanedText</th>\n",
       "    </tr>\n",
       "  </thead>\n",
       "  <tbody>\n",
       "    <tr>\n",
       "      <th>0</th>\n",
       "      <td>138706</td>\n",
       "      <td>150524</td>\n",
       "      <td>0006641040</td>\n",
       "      <td>ACITT7DI6IDDL</td>\n",
       "      <td>shari zychinski</td>\n",
       "      <td>0</td>\n",
       "      <td>0</td>\n",
       "      <td>positive</td>\n",
       "      <td>939340800</td>\n",
       "      <td>EVERY book is educational</td>\n",
       "      <td>this witty little book makes my son laugh at l...</td>\n",
       "      <td>witti littl book make son laugh loud recit car...</td>\n",
       "    </tr>\n",
       "    <tr>\n",
       "      <th>1</th>\n",
       "      <td>138688</td>\n",
       "      <td>150506</td>\n",
       "      <td>0006641040</td>\n",
       "      <td>A2IW4PEEKO2R0U</td>\n",
       "      <td>Tracy</td>\n",
       "      <td>1</td>\n",
       "      <td>1</td>\n",
       "      <td>positive</td>\n",
       "      <td>1194739200</td>\n",
       "      <td>Love the book, miss the hard cover version</td>\n",
       "      <td>I grew up reading these Sendak books, and watc...</td>\n",
       "      <td>grew read sendak book watch realli rosi movi i...</td>\n",
       "    </tr>\n",
       "    <tr>\n",
       "      <th>2</th>\n",
       "      <td>138689</td>\n",
       "      <td>150507</td>\n",
       "      <td>0006641040</td>\n",
       "      <td>A1S4A3IQ2MU7V4</td>\n",
       "      <td>sally sue \"sally sue\"</td>\n",
       "      <td>1</td>\n",
       "      <td>1</td>\n",
       "      <td>positive</td>\n",
       "      <td>1191456000</td>\n",
       "      <td>chicken soup with rice months</td>\n",
       "      <td>This is a fun way for children to learn their ...</td>\n",
       "      <td>fun way children learn month year learn poem t...</td>\n",
       "    </tr>\n",
       "    <tr>\n",
       "      <th>3</th>\n",
       "      <td>138690</td>\n",
       "      <td>150508</td>\n",
       "      <td>0006641040</td>\n",
       "      <td>AZGXZ2UUK6X</td>\n",
       "      <td>Catherine Hallberg \"(Kate)\"</td>\n",
       "      <td>1</td>\n",
       "      <td>1</td>\n",
       "      <td>positive</td>\n",
       "      <td>1076025600</td>\n",
       "      <td>a good swingy rhythm for reading aloud</td>\n",
       "      <td>This is a great little book to read aloud- it ...</td>\n",
       "      <td>great littl book read nice rhythm well good re...</td>\n",
       "    </tr>\n",
       "    <tr>\n",
       "      <th>4</th>\n",
       "      <td>138691</td>\n",
       "      <td>150509</td>\n",
       "      <td>0006641040</td>\n",
       "      <td>A3CMRKGE0P909G</td>\n",
       "      <td>Teresa</td>\n",
       "      <td>3</td>\n",
       "      <td>4</td>\n",
       "      <td>positive</td>\n",
       "      <td>1018396800</td>\n",
       "      <td>A great way to learn the months</td>\n",
       "      <td>This is a book of poetry about the months of t...</td>\n",
       "      <td>book poetri month year goe month cute littl po...</td>\n",
       "    </tr>\n",
       "  </tbody>\n",
       "</table>\n",
       "</div>"
      ],
      "text/plain": [
       "    index      Id   ProductId          UserId                  ProfileName  \\\n",
       "0  138706  150524  0006641040   ACITT7DI6IDDL              shari zychinski   \n",
       "1  138688  150506  0006641040  A2IW4PEEKO2R0U                        Tracy   \n",
       "2  138689  150507  0006641040  A1S4A3IQ2MU7V4        sally sue \"sally sue\"   \n",
       "3  138690  150508  0006641040     AZGXZ2UUK6X  Catherine Hallberg \"(Kate)\"   \n",
       "4  138691  150509  0006641040  A3CMRKGE0P909G                       Teresa   \n",
       "\n",
       "   HelpfulnessNumerator  HelpfulnessDenominator     Score        Time  \\\n",
       "0                     0                       0  positive   939340800   \n",
       "1                     1                       1  positive  1194739200   \n",
       "2                     1                       1  positive  1191456000   \n",
       "3                     1                       1  positive  1076025600   \n",
       "4                     3                       4  positive  1018396800   \n",
       "\n",
       "                                      Summary  \\\n",
       "0                   EVERY book is educational   \n",
       "1  Love the book, miss the hard cover version   \n",
       "2               chicken soup with rice months   \n",
       "3      a good swingy rhythm for reading aloud   \n",
       "4             A great way to learn the months   \n",
       "\n",
       "                                                Text  \\\n",
       "0  this witty little book makes my son laugh at l...   \n",
       "1  I grew up reading these Sendak books, and watc...   \n",
       "2  This is a fun way for children to learn their ...   \n",
       "3  This is a great little book to read aloud- it ...   \n",
       "4  This is a book of poetry about the months of t...   \n",
       "\n",
       "                                         CleanedText  \n",
       "0  witti littl book make son laugh loud recit car...  \n",
       "1  grew read sendak book watch realli rosi movi i...  \n",
       "2  fun way children learn month year learn poem t...  \n",
       "3  great littl book read nice rhythm well good re...  \n",
       "4  book poetri month year goe month cute littl po...  "
      ]
     },
     "execution_count": 3,
     "metadata": {},
     "output_type": "execute_result"
    }
   ],
   "source": [
    "final.head(5)"
   ]
  },
  {
   "cell_type": "code",
   "execution_count": 4,
   "metadata": {},
   "outputs": [
    {
     "data": {
      "text/plain": [
       "(364171, 12)"
      ]
     },
     "execution_count": 4,
     "metadata": {},
     "output_type": "execute_result"
    }
   ],
   "source": [
    "final.shape"
   ]
  },
  {
   "cell_type": "code",
   "execution_count": 3,
   "metadata": {},
   "outputs": [],
   "source": [
    "final = final.sort_values('Time', axis=0, ascending=True, inplace=False, kind='quicksort', na_position='last')#Sorting the data according to the Time in ascending order"
   ]
  },
  {
   "cell_type": "markdown",
   "metadata": {},
   "source": [
    "### Taking 100K sorted values for Logistic Regression"
   ]
  },
  {
   "cell_type": "code",
   "execution_count": 4,
   "metadata": {},
   "outputs": [],
   "source": [
    "x = final['CleanedText'].values[0:100000]#Taking 100K Values \n",
    "y = final['Score'].values[0:100000]"
   ]
  },
  {
   "cell_type": "markdown",
   "metadata": {},
   "source": [
    "### Spliiting the data into Train and Test with 70K points for Train and 30K for Test."
   ]
  },
  {
   "cell_type": "code",
   "execution_count": 5,
   "metadata": {},
   "outputs": [],
   "source": [
    "from sklearn.model_selection import train_test_split\n",
    "x_train, x_test, y_train, y_test = train_test_split( x, y, test_size=0.3, random_state=42)#Splitting the data into Test and Train"
   ]
  },
  {
   "cell_type": "code",
   "execution_count": 6,
   "metadata": {},
   "outputs": [],
   "source": [
    "#Plot Confusion Matrix for the dataset\n",
    "from sklearn.metrics import confusion_matrix\n",
    "import itertools   \n",
    "def plot_confusion_matrix(cm, classes,\n",
    "      \n",
    "                          normalize=False,\n",
    "                          title='Confusion matrix',\n",
    "                          cmap=plt.cm.Blues):\n",
    "    \"\"\"\n",
    "    This function prints and plots the confusion matrix.\n",
    "    Normalization can be applied by setting `normalize=True`.\n",
    "    \"\"\"\n",
    "    if normalize:\n",
    "        cm = cm.astype('float') / cm.sum(axis=1)[:, np.newaxis]\n",
    "        print(\"Normalized confusion matrix\")\n",
    "     #else:\n",
    "      #  print('Confusion matrix, without normalization')\n",
    "\n",
    "    #print(cm)\n",
    "\n",
    "    plt.imshow(cm, interpolation='nearest', cmap=cmap)\n",
    "    plt.title(title)\n",
    "    plt.colorbar()\n",
    "    tick_marks = np.arange(len(classes))\n",
    "    plt.xticks(tick_marks, classes, rotation=45)\n",
    "    plt.yticks(tick_marks, classes)\n",
    "\n",
    "    fmt = '.2f' if normalize else 'd'\n",
    "    thresh = cm.max() / 2.\n",
    "    for i, j in itertools.product(range(cm.shape[0]), range(cm.shape[1])):\n",
    "        plt.text(j, i, format(cm[i, j], fmt),\n",
    "                 horizontalalignment=\"center\",\n",
    "                 color=\"white\" if cm[i, j] > thresh else \"black\")\n",
    "\n",
    "    plt.ylabel('True label')\n",
    "    plt.xlabel('Predicted label')\n",
    "    plt.tight_layout()"
   ]
  },
  {
   "cell_type": "code",
   "execution_count": 18,
   "metadata": {},
   "outputs": [],
   "source": [
    "def important_features (vectorizer,classifier,class_labels,n):#Function to print important features\n",
    "    class_lables = classifier.classes_\n",
    "    features_names = vectorizer.get_feature_names()\n",
    "    topn_class1 = sorted(zip(classifier.coef_[0], features_names),reverse=True)\n",
    "    if class_labels =='negative':#Feature for negative class\n",
    "        print(\"Important words in negative reviews\")\n",
    "        for coef, feat in topn_class1[:-(n+1):-1]:\n",
    "            print(class_labels[0], coef,feat)\n",
    "    if class_labels =='positive':#Feature for Positive class\n",
    "        print(\"Important words in positive reviews\")\n",
    "        for coef, feat in topn_class1[:n]:\n",
    "            print(class_labels[1], coef,feat)\n",
    "    "
   ]
  },
  {
   "cell_type": "markdown",
   "metadata": {},
   "source": [
    "# Logistic regression on Bag of Words "
   ]
  },
  {
   "cell_type": "markdown",
   "metadata": {},
   "source": [
    "### Vectorizing the data for Bag of Words."
   ]
  },
  {
   "cell_type": "code",
   "execution_count": 8,
   "metadata": {},
   "outputs": [
    {
     "name": "stdout",
     "output_type": "stream",
     "text": [
      "Train Data Size:  (70000, 31419)\n",
      "Test Data Size:  (30000, 31419)\n"
     ]
    }
   ],
   "source": [
    "from sklearn.feature_extraction.text import CountVectorizer\n",
    "count_vect = CountVectorizer() #Vectorization for BOW\n",
    "X_train = count_vect.fit_transform(x_train)# Fitting and training our dataset on train dataset\n",
    "X_test = count_vect.transform(x_test)\n",
    "print(\"Train Data Size: \",X_train.shape)\n",
    "print(\"Test Data Size: \",X_test.shape)\n"
   ]
  },
  {
   "cell_type": "code",
   "execution_count": 9,
   "metadata": {},
   "outputs": [],
   "source": [
    "from sklearn import preprocessing\n",
    "#Column Standardization of the values with Mean deviation\n",
    "scaler = preprocessing.StandardScaler(copy=True, with_mean=False, with_std=True)\n",
    "X1_train = scaler.fit_transform(X_train)\n",
    "X1_test = scaler.fit_transform(X_test)"
   ]
  },
  {
   "cell_type": "markdown",
   "metadata": {},
   "source": [
    "### Using GridSearchCV "
   ]
  },
  {
   "cell_type": "code",
   "execution_count": 12,
   "metadata": {},
   "outputs": [
    {
     "name": "stderr",
     "output_type": "stream",
     "text": [
      "C:\\Users\\Soni\\Anaconda3\\lib\\site-packages\\sklearn\\grid_search.py:42: DeprecationWarning: This module was deprecated in version 0.18 in favor of the model_selection module into which all the refactored classes and functions are moved. This module will be removed in 0.20.\n",
      "  DeprecationWarning)\n"
     ]
    },
    {
     "name": "stdout",
     "output_type": "stream",
     "text": [
      "LogisticRegression(C=0.01, class_weight=None, dual=False, fit_intercept=True,\n",
      "          intercept_scaling=1, max_iter=100, multi_class='ovr', n_jobs=1,\n",
      "          penalty='l2', random_state=None, solver='liblinear', tol=0.0001,\n",
      "          verbose=0, warm_start=False)\n",
      "The F1 score is :\n",
      "0.9115560803211248\n"
     ]
    }
   ],
   "source": [
    "from sklearn.grid_search import GridSearchCV\n",
    "from sklearn.datasets import *\n",
    "from sklearn.linear_model import LogisticRegression\n",
    "\n",
    "tuned_parameters = [{'C': [10**-4, 10**-2, 10**0, 10**2, 10**4]}]#Giving specifiv values to pass through GridsearchCV\n",
    "\n",
    "model = GridSearchCV(LogisticRegression(), tuned_parameters, scoring = 'f1_weighted', cv=4)#Passing Tuned parameters with F1 Weighted Scoring\n",
    "model.fit(X1_train, y_train)\n",
    "\n",
    "\n",
    "print(model.best_estimator_)#Prints value of C with given values in Tuned Parameters\n",
    "print (\"The F1 score is :\")\n",
    "print(model.score(X1_test, y_test))#Prints the F1 Score"
   ]
  },
  {
   "cell_type": "markdown",
   "metadata": {},
   "source": [
    "### Value of C = 0.01\n",
    "### F1 Score = 0.91"
   ]
  },
  {
   "cell_type": "code",
   "execution_count": 10,
   "metadata": {},
   "outputs": [
    {
     "name": "stdout",
     "output_type": "stream",
     "text": [
      "The Weight with C = 0.01 with L1 Reg\n",
      "3238\n"
     ]
    }
   ],
   "source": [
    "from sklearn.linear_model import LogisticRegression\n",
    "import numpy as np\n",
    "\n",
    "clf = LogisticRegression(C=0.01, penalty='l1');#Passing LR with L1 distance\n",
    "clf.fit(X1_train, y_train);\n",
    "y_pred = clf.predict(X1_test)\n",
    "w = clf.coef_\n",
    "print (\"The Weight with C = 0.01 with L1 Reg\")\n",
    "print(np.count_nonzero(w))#Counting the sparsity of weight vector.\n"
   ]
  },
  {
   "cell_type": "markdown",
   "metadata": {},
   "source": [
    "### The Weight W with C = 0.01 for L1 Distance is 3238"
   ]
  },
  {
   "cell_type": "markdown",
   "metadata": {},
   "source": [
    "# Top 50 Features for Negative class for BOW"
   ]
  },
  {
   "cell_type": "code",
   "execution_count": 11,
   "metadata": {},
   "outputs": [
    {
     "name": "stdout",
     "output_type": "stream",
     "text": [
      "Important words in negative reviews\n",
      "n -0.29296959018540086 disappoint\n",
      "n -0.20142409483823318 worst\n",
      "n -0.16789649525087896 terribl\n",
      "n -0.1647427262215395 horribl\n",
      "n -0.15877784872042178 return\n",
      "n -0.14916903203521217 tast\n",
      "n -0.14853867035794252 bad\n",
      "n -0.1314268981071881 thought\n",
      "n -0.12887900776281272 money\n",
      "n -0.12733299027543213 unfortun\n",
      "n -0.126210776698396 stale\n",
      "n -0.12617312605553627 aw\n",
      "n -0.12424899147014705 product\n",
      "n -0.11258467762508484 threw\n",
      "n -0.10989259960169534 would\n",
      "n -0.10806048397431332 bland\n",
      "n -0.10237044826296708 sorri\n",
      "n -0.09978740813138716 weak\n",
      "n -0.09453288790674905 didnt\n",
      "n -0.09353762675004205 hope\n",
      "n -0.09120986511900064 tasteless\n",
      "n -0.09071545537238268 stick\n",
      "n -0.0905238923943764 wast\n",
      "n -0.08960873123160254 mayb\n",
      "n -0.08849298049184327 poor\n",
      "n -0.08587549050308727 receiv\n",
      "n -0.085579878915869 wors\n",
      "n -0.08477304948930692 away\n",
      "n -0.08473752959697371 noth\n",
      "n -0.0825001046699864 gross\n",
      "n -0.08030181745736996 yuck\n",
      "n -0.08021621001423271 wouldnt\n",
      "n -0.07695535681913412 someth\n",
      "n -0.07528161897967564 chang\n",
      "n -0.0746110442888074 china\n",
      "n -0.07265087216275215 bought\n",
      "n -0.07187276309771726 dissapoint\n",
      "n -0.07174805101964583 descript\n",
      "n -0.07145402918212196 unpleas\n",
      "n -0.0713697873493062 expir\n",
      "n -0.07132588288355797 throw\n",
      "n -0.06922731788108352 ruin\n",
      "n -0.069142411500479 stuck\n",
      "n -0.0690133611301309 disgust\n",
      "n -0.06881466640275061 ingredi\n",
      "n -0.06771938265327475 ined\n",
      "n -0.06555931707978051 even\n",
      "n -0.06319280085840445 unless\n",
      "n -0.06211311655269182 flavorless\n",
      "n -0.061502847715440435 lack\n"
     ]
    }
   ],
   "source": [
    "important_features (count_vect,clf,'negative',50)"
   ]
  },
  {
   "cell_type": "markdown",
   "metadata": {},
   "source": [
    "# Top 50 Features for Positive class for BOW"
   ]
  },
  {
   "cell_type": "code",
   "execution_count": 19,
   "metadata": {},
   "outputs": [
    {
     "name": "stdout",
     "output_type": "stream",
     "text": [
      "Important words in positive reviews\n",
      "o 0.676471084234991 great\n",
      "o 0.4685911398633425 best\n",
      "o 0.4574726155098925 love\n",
      "o 0.41991854825362757 delici\n",
      "o 0.33369515227564545 good\n",
      "o 0.3319671164208473 perfect\n",
      "o 0.27817223834209914 excel\n",
      "o 0.24582586838928333 nice\n",
      "o 0.23977665120742048 favorit\n",
      "o 0.2383216961515476 wonder\n",
      "o 0.19975657085224496 amaz\n",
      "o 0.17428348675236335 addict\n",
      "o 0.1730719395181811 tasti\n",
      "o 0.1691153088272904 find\n",
      "o 0.16457185630291898 easi\n",
      "o 0.15785568757853533 alway\n",
      "o 0.15442670859236587 happi\n",
      "o 0.14783031348909773 thank\n",
      "o 0.14218568935129702 keep\n",
      "o 0.13817534266936807 snack\n",
      "o 0.13173398615557988 enjoy\n",
      "o 0.1294544072364475 yummi\n",
      "o 0.12837227995900227 awesom\n",
      "o 0.1266703180534115 smooth\n",
      "o 0.12430724280119859 use\n",
      "o 0.12034566527424514 glad\n",
      "o 0.12003541447831562 help\n",
      "o 0.11693212396429083 year\n",
      "o 0.11613237967256586 fantast\n",
      "o 0.11517559828978155 high\n",
      "o 0.1118992521034741 satisfi\n",
      "o 0.11114516286583366 fast\n",
      "o 0.10933087351091869 beat\n",
      "o 0.10815965637540591 store\n",
      "o 0.10551393015321553 add\n",
      "o 0.10379720563528377 hook\n",
      "o 0.09847512507433114 bit\n",
      "o 0.09581602636526051 quick\n",
      "o 0.09168289062298243 uniqu\n",
      "o 0.09101581918129921 crave\n",
      "o 0.09078508018363018 refresh\n",
      "o 0.09038761754343996 everi\n",
      "o 0.08968952467151421 rich\n",
      "o 0.08795000702384626 littl\n",
      "o 0.08784469255156555 cold\n",
      "o 0.08700722176527298 fresh\n",
      "o 0.08352576060796359 ive\n",
      "o 0.08123022667575823 often\n",
      "o 0.08113406145533153 friend\n",
      "o 0.08069270883282956 pleasant\n"
     ]
    }
   ],
   "source": [
    "important_features (count_vect,clf,'positive',50)"
   ]
  },
  {
   "cell_type": "code",
   "execution_count": 12,
   "metadata": {},
   "outputs": [
    {
     "data": {
      "text/plain": [
       "(0.9151125300557928, 0.9216333333333333, 0.9122991915202339, None)"
      ]
     },
     "execution_count": 12,
     "metadata": {},
     "output_type": "execute_result"
    }
   ],
   "source": [
    "from sklearn.metrics import precision_recall_fscore_support\n",
    "precision_recall_fscore_support(y_test, y_pred, average='weighted')#Generating Values for Precision,Recall and Fscore"
   ]
  },
  {
   "cell_type": "markdown",
   "metadata": {},
   "source": [
    "### Precision : 0.91\n",
    "### Recall : 0.92\n",
    "### F1 Score : 0.92"
   ]
  },
  {
   "cell_type": "code",
   "execution_count": 13,
   "metadata": {},
   "outputs": [
    {
     "data": {
      "image/png": "[encoded data removed]",
      "text/plain": [
       "<Figure size 432x288 with 2 Axes>"
      ]
     },
     "metadata": {},
     "output_type": "display_data"
    }
   ],
   "source": [
    "plot_confusion_matrix(confusion_matrix(y_test, y_pred), classes=[\"Negative\",\"Positive\"])#Passing Parameters in fn to predict values."
   ]
  },
  {
   "cell_type": "markdown",
   "metadata": {},
   "source": [
    "### Confusion matrix depicts it is a Positive biased Model."
   ]
  },
  {
   "cell_type": "code",
   "execution_count": 14,
   "metadata": {},
   "outputs": [
    {
     "name": "stdout",
     "output_type": "stream",
     "text": [
      "\n",
      "The accuracy of C with value 0.010000 is 92.163333%\n"
     ]
    }
   ],
   "source": [
    "acc_bow = accuracy_score(y_test, y_pred, normalize=True) * float(100)#Prints the Accuracy with L1 distance in GridsearchCV\n",
    "print('\\nThe accuracy of C with value %f is %f%%' % (0.01, acc_bow))"
   ]
  },
  {
   "cell_type": "markdown",
   "metadata": {},
   "source": [
    "### The Accuracy for C is 92.16%"
   ]
  },
  {
   "cell_type": "code",
   "execution_count": 15,
   "metadata": {},
   "outputs": [
    {
     "name": "stdout",
     "output_type": "stream",
     "text": [
      "The error for with C = 0.01 is \n"
     ]
    },
    {
     "data": {
      "text/plain": [
       "7.836666666666673"
      ]
     },
     "execution_count": 15,
     "metadata": {},
     "output_type": "execute_result"
    }
   ],
   "source": [
    "print (\"The error for with C = 0.01 is \")#Prints the error\n",
    "err_bow = 100-acc_bow\n",
    "err_bow"
   ]
  },
  {
   "cell_type": "markdown",
   "metadata": {},
   "source": [
    "#### The Error with C = 0.01 is 7.83"
   ]
  },
  {
   "cell_type": "markdown",
   "metadata": {},
   "source": [
    "# Using GridSearchCV with L2 Distance"
   ]
  },
  {
   "cell_type": "code",
   "execution_count": 21,
   "metadata": {},
   "outputs": [
    {
     "name": "stdout",
     "output_type": "stream",
     "text": [
      "The Weight with C = 0.01 with L2 Reg\n",
      "31419\n"
     ]
    }
   ],
   "source": [
    "\n",
    "import numpy as np\n",
    "\n",
    "clf1 = LogisticRegression(C=0.01, penalty='l2');#Passing LR with L2 distance\n",
    "clf1.fit(X1_train, y_train);\n",
    "y1_pred = clf1.predict(X1_test)\n",
    "w = clf1.coef_\n",
    "print (\"The Weight with C = 0.01 with L2 Reg\")\n",
    "print(np.count_nonzero(w))\n"
   ]
  },
  {
   "cell_type": "code",
   "execution_count": 22,
   "metadata": {},
   "outputs": [
    {
     "name": "stdout",
     "output_type": "stream",
     "text": [
      "Important words in positive reviews\n",
      "o 0.863734533335804 great\n",
      "o 0.6742334176164138 love\n",
      "o 0.6024398945654228 best\n",
      "o 0.5398157165877974 delici\n",
      "o 0.5130238540528688 good\n",
      "o 0.4640962496371809 perfect\n",
      "o 0.409433336486667 favorit\n",
      "o 0.3839779642522559 nice\n",
      "o 0.35335537413835083 excel\n",
      "o 0.3413347418023156 wonder\n",
      "o 0.30967042288302044 awesom\n",
      "o 0.2988190437209066 addict\n",
      "o 0.2950064966987291 amaz\n",
      "o 0.2742789464108289 find\n",
      "o 0.2551424337605151 smooth\n",
      "o 0.2513994299290695 easi\n",
      "o 0.25012595026751444 tasti\n",
      "o 0.24930775706920114 satisfi\n",
      "o 0.2392022448432591 glad\n",
      "o 0.23575796897770024 thank\n",
      "o 0.23564722630352528 beat\n",
      "o 0.22678713064856681 high\n",
      "o 0.2240864201680545 yummi\n",
      "o 0.2175454866597552 alway\n",
      "o 0.21320578187759123 cold\n",
      "o 0.2126366334855568 keep\n",
      "o 0.2102667041884618 snack\n",
      "o 0.20958878415679458 hook\n",
      "o 0.20906412782319672 hit\n",
      "o 0.20593656420917394 enjoy\n",
      "o 0.2057156741293216 fresh\n",
      "o 0.20541493043954978 refresh\n",
      "o 0.19627895877166152 complaint\n",
      "o 0.19494243553271703 quick\n",
      "o 0.19279579670262165 help\n",
      "o 0.1919044420239352 happi\n",
      "o 0.18863289279619963 insur\n",
      "o 0.1802867152650254 fast\n",
      "o 0.1748925598413183 beetlejuic\n",
      "o 0.17396386859980978 fantast\n",
      "o 0.16945275088848027 day\n",
      "o 0.16813076856215348 everi\n",
      "o 0.16775617668625095 long\n",
      "o 0.16706083304446712 store\n",
      "o 0.1666996901118483 make\n",
      "o 0.16641187715855676 ive\n",
      "o 0.1654261551364653 skeptic\n",
      "o 0.16327528188335663 crave\n",
      "o 0.16064943138679688 ahead\n",
      "o 0.16010373926681465 solv\n"
     ]
    }
   ],
   "source": [
    "important_features (count_vect,clf1,'positive',50)# Top 50 Features for Positive class"
   ]
  },
  {
   "cell_type": "code",
   "execution_count": 23,
   "metadata": {},
   "outputs": [
    {
     "name": "stdout",
     "output_type": "stream",
     "text": [
      "Important words in negative reviews\n",
      "n -0.29296959018540086 disappoint\n",
      "n -0.20142409483823318 worst\n",
      "n -0.16789649525087896 terribl\n",
      "n -0.1647427262215395 horribl\n",
      "n -0.15877784872042178 return\n",
      "n -0.14916903203521217 tast\n",
      "n -0.14853867035794252 bad\n",
      "n -0.1314268981071881 thought\n",
      "n -0.12887900776281272 money\n",
      "n -0.12733299027543213 unfortun\n",
      "n -0.126210776698396 stale\n",
      "n -0.12617312605553627 aw\n",
      "n -0.12424899147014705 product\n",
      "n -0.11258467762508484 threw\n",
      "n -0.10989259960169534 would\n",
      "n -0.10806048397431332 bland\n",
      "n -0.10237044826296708 sorri\n",
      "n -0.09978740813138716 weak\n",
      "n -0.09453288790674905 didnt\n",
      "n -0.09353762675004205 hope\n",
      "n -0.09120986511900064 tasteless\n",
      "n -0.09071545537238268 stick\n",
      "n -0.0905238923943764 wast\n",
      "n -0.08960873123160254 mayb\n",
      "n -0.08849298049184327 poor\n",
      "n -0.08587549050308727 receiv\n",
      "n -0.085579878915869 wors\n",
      "n -0.08477304948930692 away\n",
      "n -0.08473752959697371 noth\n",
      "n -0.0825001046699864 gross\n",
      "n -0.08030181745736996 yuck\n",
      "n -0.08021621001423271 wouldnt\n",
      "n -0.07695535681913412 someth\n",
      "n -0.07528161897967564 chang\n",
      "n -0.0746110442888074 china\n",
      "n -0.07265087216275215 bought\n",
      "n -0.07187276309771726 dissapoint\n",
      "n -0.07174805101964583 descript\n",
      "n -0.07145402918212196 unpleas\n",
      "n -0.0713697873493062 expir\n",
      "n -0.07132588288355797 throw\n",
      "n -0.06922731788108352 ruin\n",
      "n -0.069142411500479 stuck\n",
      "n -0.0690133611301309 disgust\n",
      "n -0.06881466640275061 ingredi\n",
      "n -0.06771938265327475 ined\n",
      "n -0.06555931707978051 even\n",
      "n -0.06319280085840445 unless\n",
      "n -0.06211311655269182 flavorless\n",
      "n -0.061502847715440435 lack\n"
     ]
    }
   ],
   "source": [
    "important_features (count_vect,clf,'negative',50)# Top 50 Features for Negative class"
   ]
  },
  {
   "cell_type": "code",
   "execution_count": 19,
   "metadata": {},
   "outputs": [
    {
     "data": {
      "text/plain": [
       "(0.9098404106738489, 0.9140666666666667, 0.9115560803211248, None)"
      ]
     },
     "execution_count": 19,
     "metadata": {},
     "output_type": "execute_result"
    }
   ],
   "source": [
    "from sklearn.metrics import precision_recall_fscore_support\n",
    "precision_recall_fscore_support(y_test, y1_pred, average='weighted')#Generating Values for Precision,Recall and Fscore"
   ]
  },
  {
   "cell_type": "code",
   "execution_count": 20,
   "metadata": {},
   "outputs": [
    {
     "data": {
      "image/png": "[encoded data removed]",
      "text/plain": [
       "<Figure size 432x288 with 2 Axes>"
      ]
     },
     "metadata": {},
     "output_type": "display_data"
    }
   ],
   "source": [
    "plot_confusion_matrix(confusion_matrix(y_test, y1_pred), classes=[\"Negative\",\"Positive\"])#Passing Parameters in fn to predict values."
   ]
  },
  {
   "cell_type": "code",
   "execution_count": 21,
   "metadata": {},
   "outputs": [
    {
     "name": "stdout",
     "output_type": "stream",
     "text": [
      "\n",
      "The accuracy of C with value 0.010000 is 91.406667%\n"
     ]
    }
   ],
   "source": [
    "acc_bow = accuracy_score(y_test, y1_pred, normalize=True) * float(100)#Prints the Accuracy with L2 distance in GridsearchCV\n",
    "print('\\nThe accuracy of C with value %f is %f%%' % (0.01, acc_bow))"
   ]
  },
  {
   "cell_type": "code",
   "execution_count": 22,
   "metadata": {},
   "outputs": [
    {
     "name": "stdout",
     "output_type": "stream",
     "text": [
      "The error for with C = 0.01 is \n"
     ]
    },
    {
     "data": {
      "text/plain": [
       "8.593333333333334"
      ]
     },
     "execution_count": 22,
     "metadata": {},
     "output_type": "execute_result"
    }
   ],
   "source": [
    "print (\"The error for with C = 0.01 is \")#Prints the error with L2 distance in GridsearchCV\n",
    "err_bow = 100-acc_bow\n",
    "err_bow"
   ]
  },
  {
   "cell_type": "markdown",
   "metadata": {},
   "source": [
    "# Randomized SearchCV in BOW"
   ]
  },
  {
   "cell_type": "code",
   "execution_count": 23,
   "metadata": {},
   "outputs": [
    {
     "name": "stdout",
     "output_type": "stream",
     "text": [
      "LogisticRegression(C=5426.183756117079, class_weight=None, dual=False,\n",
      "          fit_intercept=True, intercept_scaling=1, max_iter=100,\n",
      "          multi_class='ovr', n_jobs=1, penalty='l2', random_state=None,\n",
      "          solver='liblinear', tol=0.0001, verbose=0, warm_start=False)\n",
      "The F1 score is :\n",
      "0.8962704312123442\n"
     ]
    }
   ],
   "source": [
    "from sklearn.model_selection import RandomizedSearchCV\n",
    "from scipy.stats import uniform\n",
    "from sklearn.datasets import *\n",
    "from sklearn.linear_model import LogisticRegression\n",
    "from scipy import stats\n",
    "#Giving uniform range to pass through RandomizedsearchCV\n",
    "tuned_parameters = {'C':stats.uniform(10**-4,10**4)}\n",
    "\n",
    "model = RandomizedSearchCV(LogisticRegression(), tuned_parameters, scoring = 'f1_weighted', cv=4)\n",
    "model.fit(X1_train, y_train)\n",
    "\n",
    "\n",
    "print(model.best_estimator_)#Prints value of C with given values in Tuned Parameters\n",
    "print (\"The F1 score is :\")\n",
    "print(model.score(X1_test, y_test))#Prints the F1 Score \n"
   ]
  },
  {
   "cell_type": "markdown",
   "metadata": {},
   "source": [
    "## Using L1 Distance"
   ]
  },
  {
   "cell_type": "code",
   "execution_count": 24,
   "metadata": {},
   "outputs": [
    {
     "name": "stdout",
     "output_type": "stream",
     "text": [
      "The Weight with C = 5426.18 with L1 Reg is \n",
      "24662\n"
     ]
    }
   ],
   "source": [
    "\n",
    "import numpy as np\n",
    "\n",
    "clf2 = LogisticRegression(C=5426.18, penalty='l1');\n",
    "clf2.fit(X1_train, y_train);\n",
    "y2_pred = clf2.predict(X1_test)\n",
    "w = clf2.coef_\n",
    "print (\"The Weight with C = 5426.18 with L1 Reg is \")\n",
    "print(np.count_nonzero(w))\n"
   ]
  },
  {
   "cell_type": "code",
   "execution_count": 27,
   "metadata": {},
   "outputs": [
    {
     "name": "stdout",
     "output_type": "stream",
     "text": [
      "Important words in negative reviews\n",
      "n -0.8771375536666146 monosodium\n",
      "n -0.8593202373557182 worst\n",
      "n -0.8286521683081078 carrageenan\n",
      "n -0.8030071437880466 util\n",
      "n -0.8005081941534393 centuri\n",
      "n -0.74480319167546 glutam\n",
      "n -0.7244152372252806 tetra\n",
      "n -0.7192179443100399 file\n",
      "n -0.7179200563495525 misrepres\n",
      "n -0.6849162259206332 disappoint\n",
      "n -0.6566846042789167 catalina\n",
      "n -0.653376385723127 tast\n",
      "n -0.6521464725099334 marco\n",
      "n -0.6510898809257868 www\n",
      "n -0.6436346747803887 deet\n",
      "n -0.6262815039483433 nozzl\n",
      "n -0.6182151968461059 wikipedia\n",
      "n -0.5974912093578657 similac\n",
      "n -0.5956944344713423 thermogenesi\n",
      "n -0.5944207474557808 assam\n",
      "n -0.5780837125423834 madra\n",
      "n -0.5740471925749642 poof\n",
      "n -0.5703032533084404 chinotto\n",
      "n -0.5638353956398072 colicki\n",
      "n -0.5569700946008851 soap\n",
      "n -0.5437569720341517 swell\n",
      "n -0.5424242311341949 nada\n",
      "n -0.5325391910495836 numi\n",
      "n -0.5241181838951877 even\n",
      "n -0.5237376361242193 physiolog\n",
      "n -0.5157607270569334 worthless\n",
      "n -0.5032298762631591 taurin\n",
      "n -0.5013893969072627 stale\n",
      "n -0.501170839920955 horribl\n",
      "n -0.5003704626539349 south\n",
      "n -0.4987758869919979 terribl\n",
      "n -0.4965389563664323 earth\n",
      "n -0.496093907226426 wore\n",
      "n -0.4943778400438299 spite\n",
      "n -0.49417840222174214 solvent\n",
      "n -0.49110144739386696 race\n",
      "n -0.4898443524703754 kiddi\n",
      "n -0.4887947168603079 ziti\n",
      "n -0.4865532182726457 noisi\n",
      "n -0.485277320419072 vit\n",
      "n -0.48447948830272414 essoil\n",
      "n -0.4828253707840586 insuffici\n",
      "n -0.4819047945528625 vegit\n",
      "n -0.4786982808641599 consumpt\n",
      "n -0.4758095906033387 sauc\n"
     ]
    }
   ],
   "source": [
    "important_features (count_vect,clf2,'negative',50)"
   ]
  },
  {
   "cell_type": "code",
   "execution_count": 28,
   "metadata": {},
   "outputs": [
    {
     "name": "stdout",
     "output_type": "stream",
     "text": [
      "Important words in positive reviews\n",
      "o 2.0494203103092605 relax\n",
      "o 1.7792911592195126 great\n",
      "o 1.4594960564048343 love\n",
      "o 1.4113413390384544 best\n",
      "o 1.3806965871622205 vinaigrett\n",
      "o 1.3310255066861292 yuban\n",
      "o 1.285182470283487 peac\n",
      "o 1.2778709569800357 beetlejuic\n",
      "o 1.274086048560413 delici\n",
      "o 1.2679573081538114 tvp\n",
      "o 1.1877900349905666 perfect\n",
      "o 1.1587886970283643 keeper\n",
      "o 1.1409770554542713 potassium\n",
      "o 1.13694765423282 addict\n",
      "o 1.1153097296559933 dandi\n",
      "o 1.110038077830133 avenu\n",
      "o 1.100773203258071 secret\n",
      "o 1.0756541475264059 insur\n",
      "o 1.0495702845241053 good\n",
      "o 1.0430411348547894 vernor\n",
      "o 1.0201222463209667 hawaiian\n",
      "o 1.006299777069319 prescript\n",
      "o 1.0034929470188931 host\n",
      "o 0.99813548015886 awesom\n",
      "o 0.9866483409270108 languag\n",
      "o 0.9843896404943997 amber\n",
      "o 0.9777566552754722 skeptic\n",
      "o 0.971109424667127 marmit\n",
      "o 0.9671964768410675 coriand\n",
      "o 0.9606912027962337 smile\n",
      "o 0.9445895760278329 limit\n",
      "o 0.9435733849274333 steel\n",
      "o 0.9412568171951139 favorit\n",
      "o 0.9386114254893283 ratio\n",
      "o 0.9307810928983169 preheat\n",
      "o 0.928547066524986 delect\n",
      "o 0.9225884302243388 prici\n",
      "o 0.8876638025039505 heartili\n",
      "o 0.882743157364507 aerat\n",
      "o 0.8741971403638588 gym\n",
      "o 0.8721504995455263 gastrointestin\n",
      "o 0.8456820796774498 litterbox\n",
      "o 0.8421111703746129 dashi\n",
      "o 0.8332102611807285 grapefruit\n",
      "o 0.8256562400160254 amaz\n",
      "o 0.8209810091303871 solo\n",
      "o 0.8130528278876412 nice\n",
      "o 0.8057084959018381 confess\n",
      "o 0.7978593382458878 hook\n",
      "o 0.7973688472767433 malti\n"
     ]
    }
   ],
   "source": [
    "important_features (count_vect,clf2,'positive',50)"
   ]
  },
  {
   "cell_type": "code",
   "execution_count": 14,
   "metadata": {},
   "outputs": [
    {
     "data": {
      "text/plain": [
       "(0.883075746391485, 0.8763, 0.8794092766093363, None)"
      ]
     },
     "execution_count": 14,
     "metadata": {},
     "output_type": "execute_result"
    }
   ],
   "source": [
    "from sklearn.metrics import precision_recall_fscore_support\n",
    "precision_recall_fscore_support(y_test, y2_pred, average='weighted')#Generating Values for Precision,Recall and Fscore"
   ]
  },
  {
   "cell_type": "code",
   "execution_count": 15,
   "metadata": {},
   "outputs": [
    {
     "data": {
      "image/png": "[encoded data removed]",
      "text/plain": [
       "<Figure size 432x288 with 2 Axes>"
      ]
     },
     "metadata": {},
     "output_type": "display_data"
    }
   ],
   "source": [
    "plot_confusion_matrix(confusion_matrix(y_test, y2_pred), classes=[\"Negative\",\"Positive\"])#Passing Parameters in fn to predict values."
   ]
  },
  {
   "cell_type": "code",
   "execution_count": 16,
   "metadata": {},
   "outputs": [
    {
     "name": "stdout",
     "output_type": "stream",
     "text": [
      "\n",
      "The accuracy of C with value 5426.180000 is 87.630000%\n"
     ]
    }
   ],
   "source": [
    "acc_bow = accuracy_score(y_test, y2_pred, normalize=True) * float(100)\n",
    "print('\\nThe accuracy of C with value %f is %f%%' % (5426.18, acc_bow))"
   ]
  },
  {
   "cell_type": "code",
   "execution_count": 17,
   "metadata": {},
   "outputs": [
    {
     "name": "stdout",
     "output_type": "stream",
     "text": [
      "The error for with C = 5426.18 is \n"
     ]
    },
    {
     "data": {
      "text/plain": [
       "12.370000000000005"
      ]
     },
     "execution_count": 17,
     "metadata": {},
     "output_type": "execute_result"
    }
   ],
   "source": [
    "print (\"The error for with C = 5426.18 is \")\n",
    "err_bow = 100-acc_bow\n",
    "err_bow"
   ]
  },
  {
   "cell_type": "markdown",
   "metadata": {},
   "source": [
    "## Using L2 Distance"
   ]
  },
  {
   "cell_type": "code",
   "execution_count": 29,
   "metadata": {},
   "outputs": [
    {
     "name": "stdout",
     "output_type": "stream",
     "text": [
      "The Weight with C = 5426.18 with L2 Reg\n",
      "31419\n"
     ]
    }
   ],
   "source": [
    "\n",
    "import numpy as np\n",
    "\n",
    "clf3 = LogisticRegression(C=5426.18, penalty='l2');\n",
    "clf3.fit(X1_train, y_train);\n",
    "y3_pred = clf3.predict(X1_test)\n",
    "w = clf3.coef_\n",
    "print (\"The Weight with C = 5426.18 with L2 Reg\")\n",
    "print(np.count_nonzero(w))\n"
   ]
  },
  {
   "cell_type": "code",
   "execution_count": 19,
   "metadata": {},
   "outputs": [
    {
     "data": {
      "text/plain": [
       "(0.9022384339744236, 0.9019333333333334, 0.9020847621316067, None)"
      ]
     },
     "execution_count": 19,
     "metadata": {},
     "output_type": "execute_result"
    }
   ],
   "source": [
    "from sklearn.metrics import precision_recall_fscore_support\n",
    "precision_recall_fscore_support(y_test, y3_pred, average='weighted')#Generating Values for Precision,Recall and Fscore"
   ]
  },
  {
   "cell_type": "code",
   "execution_count": 20,
   "metadata": {},
   "outputs": [
    {
     "data": {
      "image/png": "[encoded data removed]",
      "text/plain": [
       "<Figure size 432x288 with 2 Axes>"
      ]
     },
     "metadata": {},
     "output_type": "display_data"
    }
   ],
   "source": [
    "plot_confusion_matrix(confusion_matrix(y_test, y3_pred), classes=[\"Negative\",\"Positive\"])#Passing Parameters in fn to predict values."
   ]
  },
  {
   "cell_type": "code",
   "execution_count": 21,
   "metadata": {},
   "outputs": [
    {
     "name": "stdout",
     "output_type": "stream",
     "text": [
      "\n",
      "The accuracy of C with value 5426.180000 is 90.193333%\n"
     ]
    }
   ],
   "source": [
    "acc_bow = accuracy_score(y_test, y3_pred, normalize=True) * float(100)\n",
    "print('\\nThe accuracy of C with value %f is %f%%' % (5426.18, acc_bow))"
   ]
  },
  {
   "cell_type": "code",
   "execution_count": 22,
   "metadata": {},
   "outputs": [
    {
     "name": "stdout",
     "output_type": "stream",
     "text": [
      "The error for with C = 5426.18 is \n"
     ]
    },
    {
     "data": {
      "text/plain": [
       "9.806666666666658"
      ]
     },
     "execution_count": 22,
     "metadata": {},
     "output_type": "execute_result"
    }
   ],
   "source": [
    "print (\"The error for with C = 5426.18 is \")\n",
    "err_bow = 100-acc_bow\n",
    "err_bow"
   ]
  },
  {
   "cell_type": "code",
   "execution_count": 30,
   "metadata": {},
   "outputs": [
    {
     "name": "stdout",
     "output_type": "stream",
     "text": [
      "Important words in positive reviews\n",
      "o 1.2754860781527388 great\n",
      "o 1.0102576611704874 love\n",
      "o 0.9309778409677294 best\n",
      "o 0.8586305562781218 delici\n",
      "o 0.7954462969700349 perfect\n",
      "o 0.7379892005567178 good\n",
      "o 0.6563666405779598 favorit\n",
      "o 0.6006025446759807 nice\n",
      "o 0.564613871512983 awesom\n",
      "o 0.5347879541307216 addict\n",
      "o 0.519642199141917 wonder\n",
      "o 0.5117861179041151 amaz\n",
      "o 0.5069770073150205 excel\n",
      "o 0.43650220407027396 satisfi\n",
      "o 0.4188820703578463 find\n",
      "o 0.41172563283694047 smooth\n",
      "o 0.4033269903570021 insur\n",
      "o 0.3989994370886557 hit\n",
      "o 0.3984608101971019 beat\n",
      "o 0.39231498158420497 hook\n",
      "o 0.3895729362088991 glad\n",
      "o 0.3844054488118829 easi\n",
      "o 0.3712899279795756 yummi\n",
      "o 0.3668361028962005 refresh\n",
      "o 0.3660529403255834 cold\n",
      "o 0.357978773502969 high\n",
      "o 0.3476181419545433 beetlejuic\n",
      "o 0.3418109594252514 complaint\n",
      "o 0.3387357140424144 thank\n",
      "o 0.3319876613156709 tasti\n",
      "o 0.33138620076445635 alway\n",
      "o 0.3293854884130862 keep\n",
      "o 0.32701096867394946 skeptic\n",
      "o 0.3269452425986968 solv\n",
      "o 0.32617763832024976 help\n",
      "o 0.325317859690834 fresh\n",
      "o 0.3162974834338462 prici\n",
      "o 0.3098629637802003 snack\n",
      "o 0.30250598709629517 weve\n",
      "o 0.2966118335931381 enjoy\n",
      "o 0.29298746566235073 steel\n",
      "o 0.290115986409152 cholesterol\n",
      "o 0.28782659483189044 relat\n",
      "o 0.2872362896944422 maintain\n",
      "o 0.28486052395361144 ahead\n",
      "o 0.2847697556564779 quick\n",
      "o 0.2833480682509201 gastrointestin\n",
      "o 0.28294235580357124 savori\n",
      "o 0.2769984776664183 happi\n",
      "o 0.2751958968489248 chedder\n"
     ]
    }
   ],
   "source": [
    "important_features (count_vect,clf3,'positive',50)"
   ]
  },
  {
   "cell_type": "code",
   "execution_count": 31,
   "metadata": {},
   "outputs": [
    {
     "name": "stdout",
     "output_type": "stream",
     "text": [
      "Important words in negative reviews\n",
      "n -0.5638273205341401 worst\n",
      "n -0.5202154200128558 disappoint\n",
      "n -0.4292332939915845 tast\n",
      "n -0.3723697873783834 terribl\n",
      "n -0.3635570073265746 unapprov\n",
      "n -0.36181415381499593 horribl\n",
      "n -0.35219801671836093 stale\n",
      "n -0.32764930889504573 unfortun\n",
      "n -0.31241764933373417 earth\n",
      "n -0.3081229224675081 return\n",
      "n -0.30648644484721355 thought\n",
      "n -0.2909175837103665 even\n",
      "n -0.29081571620088587 ingredi\n",
      "n -0.28915426228498026 would\n",
      "n -0.2884281846187062 aw\n",
      "n -0.28602498645143787 bland\n",
      "n -0.28382405215926215 dri\n",
      "n -0.27816122942976385 madra\n",
      "n -0.27505171492505287 wast\n",
      "n -0.27220318020467754 stick\n",
      "n -0.26388039665882634 hope\n",
      "n -0.26080934859772437 product\n",
      "n -0.25774201141425856 www\n",
      "n -0.24202809553682994 bad\n",
      "n -0.23902635682050719 away\n",
      "n -0.2379642143406178 yogi\n",
      "n -0.23702107507054615 way\n",
      "n -0.23633116432906864 stuck\n",
      "n -0.23548394787416432 worthless\n",
      "n -0.2334562988993738 inform\n",
      "n -0.23305755189081193 swell\n",
      "n -0.23186387387026536 threw\n",
      "n -0.22819547706094015 poof\n",
      "n -0.22800790362496381 chang\n",
      "n -0.22524702916886577 diarrhea\n",
      "n -0.2231946427574811 coconut\n",
      "n -0.22314051793092876 vomit\n",
      "n -0.2225419990107226 china\n",
      "n -0.221438406317631 downtown\n",
      "n -0.22095513006645567 monosodium\n",
      "n -0.2202071591300356 embarrass\n",
      "n -0.2196657635184012 similac\n",
      "n -0.2187859660298031 bitter\n",
      "n -0.2181722946892629 weak\n",
      "n -0.21652409206818854 sauc\n",
      "n -0.21572705936102496 ined\n",
      "n -0.2156520160371964 old\n",
      "n -0.21334366005732355 noth\n",
      "n -0.21303676825814444 race\n",
      "n -0.21024591485937227 strang\n"
     ]
    }
   ],
   "source": [
    "important_features (count_vect,clf3,'negative',50)"
   ]
  },
  {
   "cell_type": "markdown",
   "metadata": {},
   "source": [
    "# Conclusion for BOW"
   ]
  },
  {
   "cell_type": "markdown",
   "metadata": {},
   "source": [
    "| Parameters | SearchCV |  Value of C   | F1 Score | Weight W  | Accuracy | Error\n",
    "|------------|--------|\n",
    "|  L1     |  GridsearchCV  | 0.01 | 0.90 | 3238 | 92.16 | 7.83 \n",
    "|  L2    |  GridSearchCV | 0.01 | 0.90 | 31419 | 91.4 | 8.59\n",
    "|  L1     |  RandomsearchCV  | 5426.18 | 0.89 | 24662 | 87.63 | 12.37 \n",
    "|  L2    |  RandomsearchCV | 4465.57 | 0.86 | 31419 | 90.19 | 9.8\n",
    "\n",
    "\n"
   ]
  },
  {
   "cell_type": "markdown",
   "metadata": {},
   "source": [
    "### Observations : \n",
    "### 1. The L1 model has more accuracy with gridsearch than randomsearch.\n",
    " ### 2. The value of C is lesser in gridsearch  so the value of lambda would be more, Bias would be more and latency would be less.So L1 with Gridsearch is a good model.Also, it has the lowest error.\n",
    " ### 3. This shows lower the C value, lambda increases, Weight decreases so sparsity increases and accuracy is more with low latency model."
   ]
  },
  {
   "cell_type": "markdown",
   "metadata": {},
   "source": [
    "# TFIDF"
   ]
  },
  {
   "cell_type": "code",
   "execution_count": 32,
   "metadata": {},
   "outputs": [
    {
     "name": "stdout",
     "output_type": "stream",
     "text": [
      "the type of count vectorizer  <class 'scipy.sparse.csr.csr_matrix'>\n",
      "Train Data Size:  (70000, 931334)\n",
      "Test Data Size:  (30000, 931334)\n"
     ]
    }
   ],
   "source": [
    "from sklearn.feature_extraction.text import TfidfTransformer\n",
    "from sklearn.feature_extraction.text import TfidfVectorizer\n",
    "tf_idf_vect = TfidfVectorizer(ngram_range=(1,2))#Vectorizering the data\n",
    "X_train_tfidf = tf_idf_vect.fit_transform(x_train)\n",
    "X_test_tfidf = tf_idf_vect.transform(x_test)\n",
    "print(\"the type of count vectorizer \",type(X_train_tfidf))\n",
    "print(\"Train Data Size: \",X_train_tfidf.shape)\n",
    "print(\"Test Data Size: \",X_test_tfidf.shape)\n"
   ]
  },
  {
   "cell_type": "code",
   "execution_count": 33,
   "metadata": {},
   "outputs": [],
   "source": [
    "scaler = preprocessing.StandardScaler(copy=True, with_mean=False, with_std=True)\n",
    "X2_train = scaler.fit_transform(X_train_tfidf)\n",
    "X2_test = scaler.fit_transform(X_test_tfidf)\n"
   ]
  },
  {
   "cell_type": "code",
   "execution_count": 26,
   "metadata": {},
   "outputs": [
    {
     "name": "stdout",
     "output_type": "stream",
     "text": [
      "LogisticRegression(C=10000, class_weight=None, dual=False, fit_intercept=True,\n",
      "          intercept_scaling=1, max_iter=100, multi_class='ovr', n_jobs=1,\n",
      "          penalty='l2', random_state=None, solver='liblinear', tol=0.0001,\n",
      "          verbose=0, warm_start=False)\n",
      "The F1 score is :\n",
      "0.8673383617021605\n"
     ]
    }
   ],
   "source": [
    "from sklearn.grid_search import GridSearchCV\n",
    "\n",
    "tuned_parameters = [{'C': [10**-4, 10**-2, 10**0, 10**2, 10**4]}]\n",
    "\n",
    "model = GridSearchCV(LogisticRegression(), tuned_parameters, scoring = 'f1_weighted', cv=4)\n",
    "model.fit(X2_train, y_train)\n",
    "\n",
    "\n",
    "print(model.best_estimator_)\n",
    "print (\"The F1 score is :\")\n",
    "print(model.score(X2_test, y_test))"
   ]
  },
  {
   "cell_type": "code",
   "execution_count": 63,
   "metadata": {},
   "outputs": [
    {
     "name": "stdout",
     "output_type": "stream",
     "text": [
      "The Weight with C = 10000 with L1 Reg\n",
      "755611\n"
     ]
    }
   ],
   "source": [
    "\n",
    "import numpy as np\n",
    "\n",
    "clf4 = LogisticRegression(C=10000, penalty='l1');\n",
    "clf4.fit(X2_train, y_train);\n",
    "y_pred_tfidf = clf4.predict(X2_test)\n",
    "w = clf4.coef_\n",
    "print (\"The Weight with C = 10000 with L1 Reg\")\n",
    "print(np.count_nonzero(w))\n"
   ]
  },
  {
   "cell_type": "code",
   "execution_count": 64,
   "metadata": {},
   "outputs": [
    {
     "data": {
      "text/plain": [
       "(0.8462628291133514, 0.8652, 0.8538498026315788, None)"
      ]
     },
     "execution_count": 64,
     "metadata": {},
     "output_type": "execute_result"
    }
   ],
   "source": [
    "from sklearn.metrics import precision_recall_fscore_support\n",
    "precision_recall_fscore_support(y_test, y_pred_tfidf, average='weighted')#Generating Values for Precision,Recall and Fscore"
   ]
  },
  {
   "cell_type": "code",
   "execution_count": 65,
   "metadata": {},
   "outputs": [
    {
     "data": {
      "image/png": "[encoded data removed]",
      "text/plain": [
       "<Figure size 432x288 with 2 Axes>"
      ]
     },
     "metadata": {},
     "output_type": "display_data"
    }
   ],
   "source": [
    "plot_confusion_matrix(confusion_matrix(y_test, y_pred_tfidf), classes=[\"Negative\",\"Positive\"])#Passing Parameters in fn to predict values."
   ]
  },
  {
   "cell_type": "code",
   "execution_count": 70,
   "metadata": {},
   "outputs": [
    {
     "name": "stdout",
     "output_type": "stream",
     "text": [
      "\n",
      "The accuracy of C with value 10000.000000 is 86.520000%\n"
     ]
    }
   ],
   "source": [
    "acc_bow = accuracy_score(y_test, y_pred_tfidf, normalize=True) * float(100)\n",
    "print('\\nThe accuracy of C with value %f is %f%%' % (10000, acc_bow))"
   ]
  },
  {
   "cell_type": "code",
   "execution_count": 72,
   "metadata": {},
   "outputs": [
    {
     "name": "stdout",
     "output_type": "stream",
     "text": [
      "The error for with C = 10000 is \n"
     ]
    },
    {
     "data": {
      "text/plain": [
       "13.480000000000004"
      ]
     },
     "execution_count": 72,
     "metadata": {},
     "output_type": "execute_result"
    }
   ],
   "source": [
    "print (\"The error for with C = 10000 is \")\n",
    "err_bow = 100-acc_bow\n",
    "err_bow"
   ]
  },
  {
   "cell_type": "code",
   "execution_count": 68,
   "metadata": {},
   "outputs": [
    {
     "name": "stdout",
     "output_type": "stream",
     "text": [
      "Important words in positive reviews\n",
      "o 0.7147080245728334 bit\n",
      "o 0.6098413098359216 also\n",
      "o 0.5313447425927107 best\n",
      "o 0.5232499296673415 amazon com\n",
      "o 0.514477627127683 anyth\n",
      "o 0.49919982857677814 brand\n",
      "o 0.46814307526045296 add\n",
      "o 0.462048785174653 delici\n",
      "o 0.45531088001259634 blend\n",
      "o 0.4511043482651237 area\n",
      "o 0.3976513011159848 alway\n",
      "o 0.3850423555360943 bag\n",
      "o 0.36944623152149825 absolut\n",
      "o 0.3516995689831888 amaz\n",
      "o 0.3458395217793035 bake\n",
      "o 0.34215594397259735 age\n",
      "o 0.33585026320901923 best tast\n",
      "o 0.33280125130607635 also make\n",
      "o 0.31844265349017364 dog love\n",
      "o 0.31233948573578296 ask\n",
      "o 0.29721236468726786 came\n",
      "o 0.28927422290116206 balanc\n",
      "o 0.2883033488134393 arriv\n",
      "o 0.28704597501116397 better price\n",
      "o 0.2786475884318416 buy\n",
      "o 0.2693161597674697 abl get\n",
      "o 0.26816380183875477 brew\n",
      "o 0.26789436013958295 arriv time\n",
      "o 0.26282382743856464 cold\n",
      "o 0.26064259539553886 arriv quick\n",
      "o 0.25861435389000786 along\n",
      "o 0.25825082261332505 anywher\n",
      "o 0.2575133631587875 amazon carri\n",
      "o 0.2559710599705278 allergi\n",
      "o 0.24757296773438894 amazon great\n",
      "o 0.24460083624129314 amazon offer\n",
      "o 0.2379469873541989 amazon good\n",
      "o 0.23613398460049737 beauti\n",
      "o 0.23604390157445612 almost everi\n",
      "o 0.23243714787816713 great\n",
      "o 0.229800674447411 also good\n",
      "o 0.22951078376420486 best tea\n",
      "o 0.22806299079190637 also use\n",
      "o 0.22676551700716213 absolut love\n",
      "o 0.22418886690863707 beat\n",
      "o 0.22333874216545296 best gluten\n",
      "o 0.22136747535647383 best hot\n",
      "o 0.22012106724897132 amazon make\n",
      "o 0.21725038471951708 bean\n",
      "o 0.21281661384740322 afternoon\n"
     ]
    }
   ],
   "source": [
    "important_features (tf_idf_vect,clf4,'positive',50)"
   ]
  },
  {
   "cell_type": "code",
   "execution_count": 69,
   "metadata": {},
   "outputs": [
    {
     "name": "stdout",
     "output_type": "stream",
     "text": [
      "Important words in negative reviews\n",
      "n -0.19361344058829133 avoid product\n",
      "n -0.13119034840803076 anyth like\n",
      "n -0.12461229500357175 anyth special\n",
      "n -0.1217784236788703 away rest\n",
      "n -0.11920152212571096 bad tast\n",
      "n -0.11665238466390737 advis ad\n",
      "n -0.10880500868795485 worth\n",
      "n -0.10737625509622759 disappoint product\n",
      "n -0.10005809733495892 absolut horribl\n",
      "n -0.09931719644882041 arriv hard\n",
      "n -0.09742023231611914 china would\n",
      "n -0.09698444225488169 bag stale\n",
      "n -0.09629795755414534 absolut terribl\n",
      "n -0.09430426036075579 away wast\n",
      "n -0.09260423523582445 beyond what\n",
      "n -0.09210311054197762 disappoint say\n",
      "n -0.09184805619614456 aw tast\n",
      "n -0.09092095810414501 away pretti\n",
      "n -0.08977923103871663 bag jerki\n",
      "n -0.08962399656236492 absolut disgust\n",
      "n -0.08904959512371406 bland would\n",
      "n -0.08901980402777909 bewar\n",
      "n -0.08871703168147034 box meijer\n",
      "n -0.08842339399214565 curri steak\n",
      "n -0.08769631706591585 chew lost\n",
      "n -0.08705660704397263 bold long\n",
      "n -0.08672381217024888 coffe weak\n",
      "n -0.08603764834491245 deal thicker\n",
      "n -0.08510101064715594 mark surpris\n",
      "n -0.08509299944245353 cellophan stale\n",
      "n -0.08483924617204802 bad everi\n",
      "n -0.08479096972201078 competitor amazon\n",
      "n -0.08429809216130273 can cost\n",
      "n -0.0841417618347444 asian folk\n",
      "n -0.08395995464086287 advertis order\n",
      "n -0.08367672285950117 compani rip\n",
      "n -0.0830445978721874 away disappoint\n",
      "n -0.08283223466710789 beverag flat\n",
      "n -0.08274740775909421 creami theater\n",
      "n -0.08251772845004945 almost sicken\n",
      "n -0.08218161715361248 absolut ridicul\n",
      "n -0.08183234364491397 assum prefer\n",
      "n -0.08175223225920768 area receiv\n",
      "n -0.08161296362138358 buy someth\n",
      "n -0.08106635114976017 bodi truli\n",
      "n -0.0807074062139004 bitter qualiti\n",
      "n -0.08060198432154897 bean rocamojo\n",
      "n -0.08038733206685719 bad tea\n",
      "n -0.0801165520239681 ask expir\n",
      "n -0.08011624350110567 allow soup\n"
     ]
    }
   ],
   "source": [
    "important_features (tf_idf_vect,clf4,'negative',50)"
   ]
  },
  {
   "cell_type": "markdown",
   "metadata": {},
   "source": [
    "# L2 Regularizer"
   ]
  },
  {
   "cell_type": "code",
   "execution_count": 71,
   "metadata": {},
   "outputs": [
    {
     "name": "stdout",
     "output_type": "stream",
     "text": [
      "The Weight with C = 10000 with L2 Reg\n",
      "931334\n"
     ]
    }
   ],
   "source": [
    "\n",
    "import numpy as np\n",
    "\n",
    "clf5 = LogisticRegression(C=10000, penalty='l2');\n",
    "clf5.fit(X2_train, y_train);\n",
    "y_pred_tfidf2 = clf5.predict(X2_test)\n",
    "w = clf5.coef_\n",
    "print (\"The Weight with C = 10000 with L2 Reg\")\n",
    "print(np.count_nonzero(w))\n"
   ]
  },
  {
   "cell_type": "code",
   "execution_count": 73,
   "metadata": {},
   "outputs": [
    {
     "data": {
      "text/plain": [
       "(0.9041800610961692, 0.8993333333333333, 0.8673383617021605, None)"
      ]
     },
     "execution_count": 73,
     "metadata": {},
     "output_type": "execute_result"
    }
   ],
   "source": [
    "from sklearn.metrics import precision_recall_fscore_support\n",
    "precision_recall_fscore_support(y_test, y_pred_tfidf2, average='weighted')#Generating Values for Precision,Recall and Fscore"
   ]
  },
  {
   "cell_type": "code",
   "execution_count": 74,
   "metadata": {},
   "outputs": [
    {
     "data": {
      "image/png": "[encoded data removed]",
      "text/plain": [
       "<Figure size 432x288 with 2 Axes>"
      ]
     },
     "metadata": {},
     "output_type": "display_data"
    }
   ],
   "source": [
    "plot_confusion_matrix(confusion_matrix(y_test, y_pred_tfidf2), classes=[\"Negative\",\"Positive\"])#Passing Parameters in fn to predict values."
   ]
  },
  {
   "cell_type": "code",
   "execution_count": 75,
   "metadata": {},
   "outputs": [
    {
     "name": "stdout",
     "output_type": "stream",
     "text": [
      "\n",
      "The accuracy of C with value 10000.000000 is 89.933333%\n"
     ]
    }
   ],
   "source": [
    "acc_bow = accuracy_score(y_test, y_pred_tfidf2, normalize=True) * float(100)\n",
    "print('\\nThe accuracy of C with value %f is %f%%' % (10000, acc_bow))"
   ]
  },
  {
   "cell_type": "code",
   "execution_count": 76,
   "metadata": {},
   "outputs": [
    {
     "name": "stdout",
     "output_type": "stream",
     "text": [
      "The error for with C = 10000 is \n"
     ]
    },
    {
     "data": {
      "text/plain": [
       "10.066666666666663"
      ]
     },
     "execution_count": 76,
     "metadata": {},
     "output_type": "execute_result"
    }
   ],
   "source": [
    "print (\"The error for with C = 10000 is \")\n",
    "err_bow = 100-acc_bow\n",
    "err_bow"
   ]
  },
  {
   "cell_type": "code",
   "execution_count": 77,
   "metadata": {},
   "outputs": [
    {
     "name": "stdout",
     "output_type": "stream",
     "text": [
      "Important words in positive reviews\n",
      "o 0.2624836642371254 great\n",
      "o 0.2550295376748473 love\n",
      "o 0.20857006481691198 good\n",
      "o 0.18513930720371413 best\n",
      "o 0.14203310740248853 excel\n",
      "o 0.14072723597564582 delici\n",
      "o 0.11790117546302108 find\n",
      "o 0.11787914762704221 use\n",
      "o 0.11782511785008884 favorit\n",
      "o 0.11435951564890244 product\n",
      "o 0.1098969787593952 make\n",
      "o 0.10754345125398439 price\n",
      "o 0.1049320520565311 flavor\n",
      "o 0.10234896352685811 tasti\n",
      "o 0.10176209545373416 wonder\n",
      "o 0.09963981249608868 easi\n",
      "o 0.09754277507314778 nice\n",
      "o 0.09745059366399601 perfect\n",
      "o 0.09557091994897492 like\n",
      "o 0.09547395529481016 tast\n",
      "o 0.09397805497310545 store\n",
      "o 0.09196188587349638 enjoy\n",
      "o 0.08984420480700393 thank\n",
      "o 0.08898594679404474 time\n",
      "o 0.08823508587172774 realli\n",
      "o 0.08785964007100848 quick\n",
      "o 0.08657382580541775 recommend\n",
      "o 0.08602446477991871 tri\n",
      "o 0.085866384367332 snack\n",
      "o 0.08544842332283135 tea\n",
      "o 0.08382888299275358 coffe\n",
      "o 0.08303781251445978 tast great\n",
      "o 0.08241438083799067 high\n",
      "o 0.08225421826809423 get\n",
      "o 0.0817762266725383 better\n",
      "o 0.08126000932862056 one\n",
      "o 0.08109086961280272 amazon\n",
      "o 0.07999327425835046 year\n",
      "o 0.07948014733733537 great tast\n",
      "o 0.07933969409503543 fresh\n",
      "o 0.07920091867137766 high recommend\n",
      "o 0.0777017299425365 ever\n",
      "o 0.07746690105388665 fast\n",
      "o 0.07708778815451027 treat\n",
      "o 0.07653684486735858 well\n",
      "o 0.07424356652594433 keep\n",
      "o 0.07385490131005348 alway\n",
      "o 0.07378409578180764 buy\n",
      "o 0.07354755393710648 littl\n",
      "o 0.07271208267796977 great product\n"
     ]
    }
   ],
   "source": [
    "important_features (tf_idf_vect,clf5,'positive',50)"
   ]
  },
  {
   "cell_type": "code",
   "execution_count": 78,
   "metadata": {},
   "outputs": [
    {
     "name": "stdout",
     "output_type": "stream",
     "text": [
      "Important words in negative reviews\n",
      "n -0.10690384990512009 worth\n",
      "n -0.0799980382918797 worst\n",
      "n -0.07722618553910415 disappoint\n",
      "n -0.06997704843677054 store per\n",
      "n -0.06822308219995162 wast money\n",
      "n -0.06500750002272386 terribl\n",
      "n -0.06260566050834368 horribl\n",
      "n -0.061465148250687905 second least\n",
      "n -0.05849766254731329 wont buy\n",
      "n -0.0574323361552847 threw\n",
      "n -0.05641953033202475 stale\n",
      "n -0.05369835624506698 bitter would\n",
      "n -0.0532628803459027 brand next\n",
      "n -0.05290474419206534 wast\n",
      "n -0.05016907851703438 bitter cup\n",
      "n -0.04978820883293432 worst tast\n",
      "n -0.04879516230565309 never buy\n",
      "n -0.04779611614057276 disappoint product\n",
      "n -0.047719542646586004 aw\n",
      "n -0.04677522576676933 purchas cheaper\n",
      "n -0.04610823134628733 cooki spici\n",
      "n -0.04602961166713645 return\n",
      "n -0.04357581356277138 anymor sure\n",
      "n -0.04357458585504545 absolut worst\n",
      "n -0.04218699185744091 drink black\n",
      "n -0.041661885927652895 one hous\n",
      "n -0.04126232632995484 tri pamela\n",
      "n -0.04120191567736635 dont wast\n",
      "n -0.04092405056226083 item three\n",
      "n -0.04083204949056686 sure glad\n",
      "n -0.04020136368487754 search gluten\n",
      "n -0.0399053142260206 found sam\n",
      "n -0.03875427530580696 fine impress\n",
      "n -0.0384797430657325 disgust\n",
      "n -0.03832083464025676 lack flavor\n",
      "n -0.03798160296248946 one bland\n",
      "n -0.03735074018731293 gross\n",
      "n -0.03717116406753174 threw away\n",
      "n -0.03684199810589413 wors\n",
      "n -0.036828355223596974 recommend unless\n",
      "n -0.036718451353579824 sorri say\n",
      "n -0.03654766409345846 way sweet\n",
      "n -0.0364278555883505 bland\n",
      "n -0.03614893262639263 much save\n",
      "n -0.035868780773100864 flavor defin\n",
      "n -0.0358477681753049 way salti\n",
      "n -0.035839953553522916 effici golden\n",
      "n -0.03568053916577669 spice doesnt\n",
      "n -0.03562163752278318 didnt like\n",
      "n -0.035360156447619445 time sweet\n"
     ]
    }
   ],
   "source": [
    "important_features (tf_idf_vect,clf5,'negative',50)"
   ]
  },
  {
   "cell_type": "markdown",
   "metadata": {},
   "source": [
    "# Randomized SearchCV in TFIDF"
   ]
  },
  {
   "cell_type": "code",
   "execution_count": 41,
   "metadata": {},
   "outputs": [
    {
     "name": "stdout",
     "output_type": "stream",
     "text": [
      "LogisticRegression(C=9643.522337430168, class_weight=None, dual=False,\n",
      "          fit_intercept=True, intercept_scaling=1, max_iter=100,\n",
      "          multi_class='ovr', n_jobs=1, penalty='l2', random_state=None,\n",
      "          solver='liblinear', tol=0.0001, verbose=0, warm_start=False)\n",
      "The F1 score is :\n",
      "0.8672374208413115\n"
     ]
    }
   ],
   "source": [
    "tuned_parameters = {'C':stats.uniform(10**-4,10**4)}\n",
    "\n",
    "model = RandomizedSearchCV(LogisticRegression(), tuned_parameters, scoring = 'f1_weighted', cv=4)\n",
    "model.fit(X2_train, y_train)\n",
    "\n",
    "\n",
    "print(model.best_estimator_)\n",
    "print (\"The F1 score is :\")\n",
    "print(model.score(X2_test, y_test))\n"
   ]
  },
  {
   "cell_type": "markdown",
   "metadata": {},
   "source": [
    "# L1 Regularizer"
   ]
  },
  {
   "cell_type": "code",
   "execution_count": 43,
   "metadata": {},
   "outputs": [
    {
     "name": "stdout",
     "output_type": "stream",
     "text": [
      "The Weight with C = 9643.52 with L1 Reg is \n",
      "755261\n"
     ]
    }
   ],
   "source": [
    "\n",
    "import numpy as np\n",
    "\n",
    "clf6 = LogisticRegression(C=9643.52, penalty='l1');\n",
    "clf6.fit(X2_train, y_train);\n",
    "y_pred_tfidf3 = clf6.predict(X2_test)\n",
    "w = clf6.coef_\n",
    "print (\"The Weight with C = 9643.52 with L1 Reg is \")\n",
    "print(np.count_nonzero(w))\n"
   ]
  },
  {
   "cell_type": "code",
   "execution_count": 43,
   "metadata": {},
   "outputs": [
    {
     "data": {
      "text/plain": [
       "(0.8481058428587828, 0.8665666666666667, 0.855461576158595, None)"
      ]
     },
     "execution_count": 43,
     "metadata": {},
     "output_type": "execute_result"
    }
   ],
   "source": [
    "from sklearn.metrics import precision_recall_fscore_support\n",
    "precision_recall_fscore_support(y_test, y_pred_tfidf3, average='weighted')#Generating Values for Precision,Recall and Fscore"
   ]
  },
  {
   "cell_type": "code",
   "execution_count": 44,
   "metadata": {},
   "outputs": [
    {
     "data": {
      "image/png": "[encoded data removed]",
      "text/plain": [
       "<Figure size 432x288 with 2 Axes>"
      ]
     },
     "metadata": {},
     "output_type": "display_data"
    }
   ],
   "source": [
    "plot_confusion_matrix(confusion_matrix(y_test, y_pred_tfidf3), classes=[\"Negative\",\"Positive\"])#Passing Parameters in fn to predict values."
   ]
  },
  {
   "cell_type": "code",
   "execution_count": 45,
   "metadata": {},
   "outputs": [
    {
     "name": "stdout",
     "output_type": "stream",
     "text": [
      "\n",
      "The accuracy of C with value 9643.520000 is 86.656667%\n"
     ]
    }
   ],
   "source": [
    "acc_bow = accuracy_score(y_test, y_pred_tfidf3, normalize=True) * float(100)\n",
    "print('\\nThe accuracy of C with value %f is %f%%' % (9643.52, acc_bow))"
   ]
  },
  {
   "cell_type": "code",
   "execution_count": 46,
   "metadata": {},
   "outputs": [
    {
     "name": "stdout",
     "output_type": "stream",
     "text": [
      "The error for with C = 9643.52 is \n"
     ]
    },
    {
     "data": {
      "text/plain": [
       "13.343333333333334"
      ]
     },
     "execution_count": 46,
     "metadata": {},
     "output_type": "execute_result"
    }
   ],
   "source": [
    "print (\"The error for with C = 9643.52 is \")\n",
    "err_bow = 100-acc_bow\n",
    "err_bow"
   ]
  },
  {
   "cell_type": "code",
   "execution_count": 44,
   "metadata": {},
   "outputs": [
    {
     "name": "stdout",
     "output_type": "stream",
     "text": [
      "Important words in positive reviews\n",
      "o 0.7805851422848085 best\n",
      "o 0.6437717464022741 brand\n",
      "o 0.5471925306762978 bake\n",
      "o 0.5267420064891792 becom\n",
      "o 0.5219635130896211 altern\n",
      "o 0.4691994108976752 along\n",
      "o 0.4647695209909388 also\n",
      "o 0.4531648695368964 beat\n",
      "o 0.44493455569481705 bit\n",
      "o 0.42736438082825223 abl\n",
      "o 0.39978273228158856 best price\n",
      "o 0.37468194971537333 better\n",
      "o 0.35629004605530856 bold\n",
      "o 0.35259373875526995 also great\n",
      "o 0.34501177391048365 absolut love\n",
      "o 0.32280330250181904 easi\n",
      "o 0.32266019824282455 amount\n",
      "o 0.31076413125948393 add\n",
      "o 0.30859234662492174 although\n",
      "o 0.30373644164287644 came\n",
      "o 0.3035738990555504 banana\n",
      "o 0.302947712419176 cat love\n",
      "o 0.29348442081609094 combin\n",
      "o 0.29330673825054165 add littl\n",
      "o 0.29195705880728795 arriv time\n",
      "o 0.2827869611234785 bitter\n",
      "o 0.2806144130623192 chew\n",
      "o 0.2784637834447347 afternoon\n",
      "o 0.27513370808346144 alon\n",
      "o 0.2706626154890317 cereal\n",
      "o 0.26966820314720835 arriv good\n",
      "o 0.26249884013302155 actual tast\n",
      "o 0.26034729172161325 blend\n",
      "o 0.25732959813664197 anoth\n",
      "o 0.2505257972596637 also use\n",
      "o 0.24957040978080042 great\n",
      "o 0.24436311214195686 best ever\n",
      "o 0.24153725283647728 alway\n",
      "o 0.23993592624253704 berri\n",
      "o 0.23643088454501404 bbq\n",
      "o 0.22989952656492654 also enjoy\n",
      "o 0.22906709089778632 bag great\n",
      "o 0.2192178375777963 anywher\n",
      "o 0.2113406208526418 care\n",
      "o 0.21126770086225957 arriv fast\n",
      "o 0.2086571288557152 anyon\n",
      "o 0.206009583245821 avail local\n",
      "o 0.20588375495678776 arriv quick\n",
      "o 0.2045518641882559 best flavor\n",
      "o 0.20179570424586438 bought gift\n"
     ]
    }
   ],
   "source": [
    "important_features (tf_idf_vect,clf6,'positive',50)"
   ]
  },
  {
   "cell_type": "code",
   "execution_count": 45,
   "metadata": {},
   "outputs": [
    {
     "name": "stdout",
     "output_type": "stream",
     "text": [
      "Important words in negative reviews\n",
      "n -0.25753988656517474 aw\n",
      "n -0.1589361979100469 avoid product\n",
      "n -0.1452234905682261 dont wast\n",
      "n -0.13115139957231678 cant return\n",
      "n -0.1260097832134267 big disappoint\n",
      "n -0.11115853490897994 allow return\n",
      "n -0.11108918870549474 bad tast\n",
      "n -0.11047996031750304 absolut worst\n",
      "n -0.10724318930862667 worth\n",
      "n -0.10655272122938775 anyth special\n",
      "n -0.10596405554390924 away rest\n",
      "n -0.10591411925187884 absolut horribl\n",
      "n -0.10545061367309125 bad go\n",
      "n -0.10269270193139868 box salt\n",
      "n -0.09923305129513033 although coffe\n",
      "n -0.09921041203356012 aw could\n",
      "n -0.09794206025076503 content encourag\n",
      "n -0.09772519825749588 agricultur product\n",
      "n -0.09479519537602875 anyon unless\n",
      "n -0.09403239070610891 bland\n",
      "n -0.09212596608116543 aw tast\n",
      "n -0.0899111510637319 amazon refund\n",
      "n -0.08989802944509165 came microwav\n",
      "n -0.08948893036435403 email stuff\n",
      "n -0.08947505764988357 deal thicker\n",
      "n -0.0889412111072594 bold didnt\n",
      "n -0.08844282940953634 care textur\n",
      "n -0.08819118291139955 away wont\n",
      "n -0.08751655505620785 arriv hard\n",
      "n -0.08746750579342244 artifici smell\n",
      "n -0.08725276670477292 never paid\n",
      "n -0.08651000832664009 anoth bold\n",
      "n -0.08631225300333 cat wont\n",
      "n -0.08592202401976805 bag notic\n",
      "n -0.08585965447035944 becom damag\n",
      "n -0.08556141334410015 bean rocamojo\n",
      "n -0.08523214378896883 buyer must\n",
      "n -0.08477996280914048 amount total\n",
      "n -0.08454274507744057 box disappoint\n",
      "n -0.08448471130987989 berri regular\n",
      "n -0.0839230058814325 competitor amazon\n",
      "n -0.0829956806501315 car best\n",
      "n -0.08290726237254607 avoid cost\n",
      "n -0.08246163147891325 curri steak\n",
      "n -0.08228798294496838 consistentci like\n",
      "n -0.08206992712615252 horribl kind\n",
      "n -0.08202091461229466 almost burnt\n",
      "n -0.08195606094979536 cancel tast\n",
      "n -0.08183805978912029 bean perhap\n",
      "n -0.0812962671855106 also weird\n"
     ]
    }
   ],
   "source": [
    "important_features (tf_idf_vect,clf6,'negative',50)"
   ]
  },
  {
   "cell_type": "markdown",
   "metadata": {},
   "source": [
    "# L2 regularizer"
   ]
  },
  {
   "cell_type": "code",
   "execution_count": 46,
   "metadata": {
    "scrolled": true
   },
   "outputs": [
    {
     "name": "stdout",
     "output_type": "stream",
     "text": [
      "The Weight with C = 9643.52 with L2 Reg\n",
      "931334\n"
     ]
    }
   ],
   "source": [
    "\n",
    "import numpy as np\n",
    "\n",
    "clf7 = LogisticRegression(C=9643.52, penalty='l2');\n",
    "clf7.fit(X2_train, y_train);\n",
    "y_pred_tfidf4 = clf7.predict(X2_test)\n",
    "w = clf7.coef_\n",
    "print (\"The Weight with C = 9643.52 with L2 Reg\")\n",
    "print(np.count_nonzero(w))\n"
   ]
  },
  {
   "cell_type": "code",
   "execution_count": 48,
   "metadata": {},
   "outputs": [
    {
     "data": {
      "text/plain": [
       "(0.9042822494094185, 0.8993, 0.8672374208413115, None)"
      ]
     },
     "execution_count": 48,
     "metadata": {},
     "output_type": "execute_result"
    }
   ],
   "source": [
    "from sklearn.metrics import precision_recall_fscore_support\n",
    "precision_recall_fscore_support(y_test, y_pred_tfidf4, average='weighted')#Generating Values for Precision,Recall and Fscore"
   ]
  },
  {
   "cell_type": "code",
   "execution_count": 49,
   "metadata": {},
   "outputs": [
    {
     "data": {
      "image/png": "[encoded data removed]",
      "text/plain": [
       "<Figure size 432x288 with 2 Axes>"
      ]
     },
     "metadata": {},
     "output_type": "display_data"
    }
   ],
   "source": [
    "plot_confusion_matrix(confusion_matrix(y_test, y_pred_tfidf4), classes=[\"Negative\",\"Positive\"])#Passing Parameters in fn to predict values."
   ]
  },
  {
   "cell_type": "code",
   "execution_count": 50,
   "metadata": {},
   "outputs": [
    {
     "name": "stdout",
     "output_type": "stream",
     "text": [
      "\n",
      "The accuracy of C with value 9643.520000 is 89.930000%\n"
     ]
    }
   ],
   "source": [
    "acc_bow = accuracy_score(y_test, y_pred_tfidf4, normalize=True) * float(100)\n",
    "print('\\nThe accuracy of C with value %f is %f%%' % (9643.52, acc_bow))"
   ]
  },
  {
   "cell_type": "code",
   "execution_count": 51,
   "metadata": {},
   "outputs": [
    {
     "name": "stdout",
     "output_type": "stream",
     "text": [
      "The error for with C = 9643.52 is \n"
     ]
    },
    {
     "data": {
      "text/plain": [
       "10.070000000000007"
      ]
     },
     "execution_count": 51,
     "metadata": {},
     "output_type": "execute_result"
    }
   ],
   "source": [
    "print (\"The error for with C = 9643.52 is \")\n",
    "err_bow = 100-acc_bow\n",
    "err_bow"
   ]
  },
  {
   "cell_type": "code",
   "execution_count": 47,
   "metadata": {},
   "outputs": [
    {
     "name": "stdout",
     "output_type": "stream",
     "text": [
      "Important words in positive reviews\n",
      "o 0.26234480387651826 great\n",
      "o 0.2548875695392372 love\n",
      "o 0.20842689838457187 good\n",
      "o 0.1850366612282678 best\n",
      "o 0.14181727671312602 excel\n",
      "o 0.1406698535182094 delici\n",
      "o 0.11795051723821778 find\n",
      "o 0.11791581082894831 use\n",
      "o 0.11780545406508838 favorit\n",
      "o 0.11426410987188715 product\n",
      "o 0.10997313993813428 make\n",
      "o 0.10752352006858076 price\n",
      "o 0.1049306435799866 flavor\n",
      "o 0.1022954644257105 tasti\n",
      "o 0.10174207425572106 wonder\n",
      "o 0.09962177014899923 easi\n",
      "o 0.09752626108373579 nice\n",
      "o 0.09747577582599322 perfect\n",
      "o 0.09552380243629269 like\n",
      "o 0.09540941477501776 tast\n",
      "o 0.09401556477039558 store\n",
      "o 0.09195702291252279 enjoy\n",
      "o 0.08983445620313316 thank\n",
      "o 0.08901442101776381 time\n",
      "o 0.08822617356846958 realli\n",
      "o 0.08782968953372511 quick\n",
      "o 0.08661697532671121 recommend\n",
      "o 0.08606572718374288 tri\n",
      "o 0.08588093827901562 snack\n",
      "o 0.08545280569326402 tea\n",
      "o 0.08380717215959824 coffe\n",
      "o 0.08298996645450278 tast great\n",
      "o 0.08245805161686139 high\n",
      "o 0.08228052850275262 get\n",
      "o 0.0817495572299187 better\n",
      "o 0.08126971378578465 one\n",
      "o 0.08118752050870093 amazon\n",
      "o 0.08004857241006325 year\n",
      "o 0.07941119069033933 great tast\n",
      "o 0.07933624763518465 fresh\n",
      "o 0.07924561389382927 high recommend\n",
      "o 0.0776950004278597 ever\n",
      "o 0.07741972196703985 fast\n",
      "o 0.07708750452013316 treat\n",
      "o 0.07654747936088906 well\n",
      "o 0.07428737140315089 keep\n",
      "o 0.07390179312904843 alway\n",
      "o 0.07375498531403601 buy\n",
      "o 0.0735721097729112 littl\n",
      "o 0.07266508549300077 great product\n"
     ]
    }
   ],
   "source": [
    "important_features (tf_idf_vect,clf7,'positive',50)"
   ]
  },
  {
   "cell_type": "code",
   "execution_count": 48,
   "metadata": {},
   "outputs": [
    {
     "name": "stdout",
     "output_type": "stream",
     "text": [
      "Important words in negative reviews\n",
      "n -0.1067403404828663 worth\n",
      "n -0.07998680004438602 worst\n",
      "n -0.07720015083177342 disappoint\n",
      "n -0.06994623816766622 store per\n",
      "n -0.06820534404717885 wast money\n",
      "n -0.06498180757098627 terribl\n",
      "n -0.06259171663268474 horribl\n",
      "n -0.061392141912986586 second least\n",
      "n -0.05848765787634797 wont buy\n",
      "n -0.05741240321717791 threw\n",
      "n -0.056400698745732 stale\n",
      "n -0.053650396636420766 bitter would\n",
      "n -0.05322995118659928 brand next\n",
      "n -0.05289587558213015 wast\n",
      "n -0.05011880538812031 bitter cup\n",
      "n -0.049755650667845236 worst tast\n",
      "n -0.04877622620378357 never buy\n",
      "n -0.047795429552064235 disappoint product\n",
      "n -0.04771938226086308 aw\n",
      "n -0.04674731894812387 purchas cheaper\n",
      "n -0.04606260995327181 cooki spici\n",
      "n -0.046022508694568906 return\n",
      "n -0.04359823424621494 absolut worst\n",
      "n -0.043555770217068406 anymor sure\n",
      "n -0.04215827813990867 drink black\n",
      "n -0.041626029356840046 one hous\n",
      "n -0.04123507661546354 tri pamela\n",
      "n -0.04120041806639253 dont wast\n",
      "n -0.04089277850598603 item three\n",
      "n -0.040807265157136605 sure glad\n",
      "n -0.040175861899927015 search gluten\n",
      "n -0.03987234033807152 found sam\n",
      "n -0.03872779904016146 fine impress\n",
      "n -0.03847190796407806 disgust\n",
      "n -0.038301286853858335 lack flavor\n",
      "n -0.037954482740137144 one bland\n",
      "n -0.03733631262972632 gross\n",
      "n -0.03715506341134537 threw away\n",
      "n -0.03685568449016344 wors\n",
      "n -0.0368061842216773 recommend unless\n",
      "n -0.03668812499565533 sorri say\n",
      "n -0.036527913412371465 way sweet\n",
      "n -0.03642172956792134 bland\n",
      "n -0.036115024379916934 much save\n",
      "n -0.035837188473163285 flavor defin\n",
      "n -0.035830106455753144 way salti\n",
      "n -0.035816750040885345 effici golden\n",
      "n -0.03564436076916069 spice doesnt\n",
      "n -0.035607950435160095 didnt like\n",
      "n -0.035337895328167127 time sweet\n"
     ]
    }
   ],
   "source": [
    "important_features (tf_idf_vect,clf7,'negative',50)"
   ]
  },
  {
   "cell_type": "markdown",
   "metadata": {},
   "source": [
    "# Conclusion for TFIDF "
   ]
  },
  {
   "cell_type": "markdown",
   "metadata": {},
   "source": [
    "| Parameters | SearchCV |  Value of C   | F1 Score | Weight W  | Accuracy | Error\n",
    "|------------|--------|\n",
    "|  L1     |  GridsearchCV  | 10000 | 0.86 | 755611 | 86.52 | 13.48 |  \n",
    "|  L2    |  GridSearchCV | 10000 | 0.86 | 931334 | 89.93 | 10.06 |\n",
    "|  L1     |  RandomsearchCV  | 9643.52 | 0.86 | 755261 | 86.65 | 13.34 | \n",
    "|  L2    |  RandomsearchCV | 9643.52 | 0.86 | 931334 | 89.93 | 10.07 | \n",
    "\n",
    "\n"
   ]
  },
  {
   "cell_type": "markdown",
   "metadata": {},
   "source": [
    "### Observations : \n",
    "### 1. The L2 model has more accuracy for both GridsearchSearch and Random Search.\n",
    "### 2. The value of C is lesser in gridsearch  so the value of lambda would be more, Bias would be more and latency would be less.\n",
    "### 3. With High value of C, lambda decreases with increase in Weight with decrease in sparsity.\n",
    "### 4. The Weight,Accuracy of L1 and L2 is same for Gridsearch and Randomsearch respectively.\n",
    "     "
   ]
  },
  {
   "cell_type": "markdown",
   "metadata": {},
   "source": [
    "# AVG Word2Vec\n"
   ]
  },
  {
   "cell_type": "code",
   "execution_count": 50,
   "metadata": {},
   "outputs": [
    {
     "name": "stdout",
     "output_type": "stream",
     "text": [
      "Word2Vec(vocab=10698, size=50, alpha=0.025)\n",
      "number of words that occured minimum 5 times  10698\n",
      "sample words  ['decid', 'roll', 'dice', 'bought', 'spring', 'onion', 'split', 'pea', 'soup', 'sinc', 'like', 'drink', 'wasnt', 'disappoint', 'littl', 'scare', 'first', 'time', 'order', 'food', 'type', 'item', 'amazon', 'sister', 'thought', 'crazi', 'someth', 'normal', 'dont', 'far', 'favorit', 'tri', 'bland', 'tast', 'compar', 'ambrosia', 'tomorrow', 'season', 'perfect', 'light', 'good', 'expect', 'come', 'cup', 'noodl', 'best', 'microwav', 'ever', 'know', 'might']\n"
     ]
    }
   ],
   "source": [
    "#Word 2 Vector for train corpus\n",
    "list_of_sent_train=[]#Stored in a list\n",
    "for sent in x_train:\n",
    "    list_of_sent_train.append(sent.split())\n",
    "    \n",
    "w2v_model_train=Word2Vec(list_of_sent_train,min_count=5,size=50, workers=4)\n",
    "print(w2v_model_train)\n",
    "\n",
    "w2v_words_train = list(w2v_model_train.wv.vocab)\n",
    "print(\"number of words that occured minimum 5 times \",len(w2v_words_train))\n",
    "print(\"sample words \", w2v_words_train[0:50])"
   ]
  },
  {
   "cell_type": "code",
   "execution_count": 51,
   "metadata": {},
   "outputs": [
    {
     "name": "stdout",
     "output_type": "stream",
     "text": [
      "Word2Vec(vocab=7458, size=50, alpha=0.025)\n",
      "number of words that occured minimum 5 times  7458\n",
      "sample words  ['like', 'organ', 'whole', 'grain', 'brown', 'rice', 'take', 'look', 'label', 'milk', 'product', 'two', 'thing', 'dont', 'often', 'see', 'find', 'togeth', 'one', 'made', 'favorit', 'far', 'three', 'boy', 'love', 'even', 'mix', 'unsweeten', 'soy', 'cut', 'sugar', 'high', 'recommend', 'anyon', 'want', 'need', 'avoid', 'dairi', 'that', 'posit', 'say', 'arent', 'lot', 'choic', 'decaf', 'tassimo', 'moment', 'make', 'brew', 'cup']\n"
     ]
    }
   ],
   "source": [
    "#Word 2 Vector for test corpus\n",
    "list_of_sent_test=[]\n",
    "for sent in x_test:\n",
    "    list_of_sent_test.append(sent.split())\n",
    "    \n",
    "w2v_model_test=Word2Vec(list_of_sent_test,min_count=5,size=50, workers=4)\n",
    "print(w2v_model_test)\n",
    "\n",
    "w2v_words_test = list(w2v_model_test.wv.vocab)\n",
    "print(\"number of words that occured minimum 5 times \",len(w2v_words_test))\n",
    "print(\"sample words \", w2v_words_test[0:50])"
   ]
  },
  {
   "cell_type": "code",
   "execution_count": 52,
   "metadata": {},
   "outputs": [
    {
     "name": "stdout",
     "output_type": "stream",
     "text": [
      "70000\n",
      "50\n"
     ]
    }
   ],
   "source": [
    "#train corpus\n",
    "sent_vectors_train = []; # the avg-w2v for each sentence/review is stored in this list\n",
    "for sent in list_of_sent_train: # for each review/sentence\n",
    "    sent_vec = np.zeros(50) # as word vectors are of zero length\n",
    "    cnt_words =0; # num of words with a valid vector in the sentence/review\n",
    "    for word in sent: # for each word in a review/sentence\n",
    "        if word in w2v_words_train:\n",
    "            #print(word)\n",
    "            vec = w2v_model_train.wv[word]\n",
    "            sent_vec += vec\n",
    "            cnt_words += 1\n",
    "    if cnt_words != 0:\n",
    "        sent_vec /= cnt_words\n",
    "    sent_vectors_train.append(sent_vec)\n",
    "print(len(sent_vectors_train))\n",
    "print(len(sent_vectors_train[0]))"
   ]
  },
  {
   "cell_type": "code",
   "execution_count": 53,
   "metadata": {},
   "outputs": [
    {
     "name": "stdout",
     "output_type": "stream",
     "text": [
      "30000\n",
      "50\n"
     ]
    }
   ],
   "source": [
    "#test Corpus\n",
    "sent_vectors_test = []; # the avg-w2v for each sentence/review is stored in this list\n",
    "for sent in list_of_sent_test: # for each review/sentence\n",
    "    sent_vec = np.zeros(50) # as word vectors are of zero length\n",
    "    cnt_words =0; # num of words with a valid vector in the sentence/review\n",
    "    for word in sent: # for each word in a review/sentence\n",
    "        if word in w2v_words_test:\n",
    "    \n",
    "            vec = w2v_model_test.wv[word]\n",
    "            sent_vec += vec\n",
    "            cnt_words += 1\n",
    "    if cnt_words != 0:\n",
    "        sent_vec /= cnt_words\n",
    "    sent_vectors_test.append(sent_vec)\n",
    "print(len(sent_vectors_test))\n",
    "print(len(sent_vectors_test[0]))"
   ]
  },
  {
   "cell_type": "code",
   "execution_count": 54,
   "metadata": {},
   "outputs": [],
   "source": [
    "scaler = preprocessing.StandardScaler(copy=True, with_mean=False, with_std=True)\n",
    "X_train_avgw2v = scaler.fit_transform(sent_vectors_train)\n",
    "X_test_avgw2v = scaler.fit_transform(sent_vectors_test)\n"
   ]
  },
  {
   "cell_type": "code",
   "execution_count": 50,
   "metadata": {},
   "outputs": [
    {
     "name": "stdout",
     "output_type": "stream",
     "text": [
      "LogisticRegression(C=1, class_weight=None, dual=False, fit_intercept=True,\n",
      "          intercept_scaling=1, max_iter=100, multi_class='ovr', n_jobs=1,\n",
      "          penalty='l2', random_state=None, solver='liblinear', tol=0.0001,\n",
      "          verbose=0, warm_start=False)\n",
      "The F1 score is :\n",
      "0.8132141540056762\n"
     ]
    }
   ],
   "source": [
    "\n",
    "\n",
    "tuned_parameters = [{'C': [10**-4, 10**-2, 10**0, 10**2, 10**4]}]\n",
    "\n",
    "model = GridSearchCV(LogisticRegression(), tuned_parameters, scoring = 'f1_weighted', cv=4)\n",
    "model.fit(X_train_avgw2v, y_train)\n",
    "\n",
    "\n",
    "print(model.best_estimator_)\n",
    "print (\"The F1 score is :\")\n",
    "print(model.score(X_test_avgw2v, y_test))"
   ]
  },
  {
   "cell_type": "markdown",
   "metadata": {},
   "source": [
    "# L1 regularizer"
   ]
  },
  {
   "cell_type": "code",
   "execution_count": 55,
   "metadata": {},
   "outputs": [
    {
     "name": "stdout",
     "output_type": "stream",
     "text": [
      "The Weight with C = 1 with L1 Reg is \n",
      "50\n"
     ]
    }
   ],
   "source": [
    "\n",
    "import numpy as np\n",
    "\n",
    "clf8 = LogisticRegression(C=1, penalty='l1');\n",
    "clf8.fit(X_train_avgw2v, y_train);\n",
    "y_pred_avgw2v = clf8.predict(X_test_avgw2v)\n",
    "w = clf8.coef_\n",
    "print (\"The Weight with C = 1 with L1 Reg is \")\n",
    "print(np.count_nonzero(w))\n"
   ]
  },
  {
   "cell_type": "code",
   "execution_count": 52,
   "metadata": {},
   "outputs": [
    {
     "data": {
      "text/plain": [
       "(0.8315780466439135, 0.8604333333333334, 0.8145843911537185, None)"
      ]
     },
     "execution_count": 52,
     "metadata": {},
     "output_type": "execute_result"
    }
   ],
   "source": [
    "from sklearn.metrics import precision_recall_fscore_support\n",
    "precision_recall_fscore_support(y_test, y_pred_avgw2v, average='weighted')#Generating Values for Precision,Recall and Fscore"
   ]
  },
  {
   "cell_type": "code",
   "execution_count": 53,
   "metadata": {},
   "outputs": [
    {
     "data": {
      "image/png": "[encoded data removed]",
      "text/plain": [
       "<Figure size 432x288 with 2 Axes>"
      ]
     },
     "metadata": {},
     "output_type": "display_data"
    }
   ],
   "source": [
    "plot_confusion_matrix(confusion_matrix(y_test, y_pred_avgw2v), classes=[\"Negative\",\"Positive\"])#Passing Parameters in fn to predict values."
   ]
  },
  {
   "cell_type": "code",
   "execution_count": 54,
   "metadata": {},
   "outputs": [
    {
     "name": "stdout",
     "output_type": "stream",
     "text": [
      "\n",
      "The accuracy of C with value 1.000000 is 86.043333%\n"
     ]
    }
   ],
   "source": [
    "acc_bow = accuracy_score(y_test, y_pred_avgw2v, normalize=True) * float(100)\n",
    "print('\\nThe accuracy of C with value %f is %f%%' % (1, acc_bow))"
   ]
  },
  {
   "cell_type": "code",
   "execution_count": 55,
   "metadata": {},
   "outputs": [
    {
     "name": "stdout",
     "output_type": "stream",
     "text": [
      "The error for with C = 1 is \n"
     ]
    },
    {
     "data": {
      "text/plain": [
       "13.956666666666663"
      ]
     },
     "execution_count": 55,
     "metadata": {},
     "output_type": "execute_result"
    }
   ],
   "source": [
    "print (\"The error for with C = 1 is \")\n",
    "err_bow = 100-acc_bow\n",
    "err_bow"
   ]
  },
  {
   "cell_type": "markdown",
   "metadata": {},
   "source": [
    "# L2 Regularizer"
   ]
  },
  {
   "cell_type": "code",
   "execution_count": 56,
   "metadata": {},
   "outputs": [
    {
     "name": "stdout",
     "output_type": "stream",
     "text": [
      "The Weight with C = 1 with L2 Reg\n",
      "50\n"
     ]
    }
   ],
   "source": [
    "\n",
    "import numpy as np\n",
    "\n",
    "clf = LogisticRegression(C=1, penalty='l2');\n",
    "clf.fit(X_train_avgw2v, y_train);\n",
    "y_pred_avgw2v2 = clf.predict(X_test_avgw2v)\n",
    "w = clf.coef_\n",
    "print (\"The Weight with C = 1 with L2 Reg\")\n",
    "print(np.count_nonzero(w))\n"
   ]
  },
  {
   "cell_type": "code",
   "execution_count": 57,
   "metadata": {},
   "outputs": [
    {
     "data": {
      "text/plain": [
       "(0.8302737696063165, 0.8599333333333333, 0.8132141540056762, None)"
      ]
     },
     "execution_count": 57,
     "metadata": {},
     "output_type": "execute_result"
    }
   ],
   "source": [
    "from sklearn.metrics import precision_recall_fscore_support\n",
    "precision_recall_fscore_support(y_test, y_pred_avgw2v2, average='weighted')#Generating Values for Precision,Recall and Fscore"
   ]
  },
  {
   "cell_type": "code",
   "execution_count": 58,
   "metadata": {},
   "outputs": [
    {
     "data": {
      "image/png": "[encoded data removed]",
      "text/plain": [
       "<Figure size 432x288 with 2 Axes>"
      ]
     },
     "metadata": {},
     "output_type": "display_data"
    }
   ],
   "source": [
    "plot_confusion_matrix(confusion_matrix(y_test, y_pred_avgw2v2), classes=[\"Negative\",\"Positive\"])#Passing Parameters in fn to predict values."
   ]
  },
  {
   "cell_type": "code",
   "execution_count": 59,
   "metadata": {},
   "outputs": [
    {
     "name": "stdout",
     "output_type": "stream",
     "text": [
      "\n",
      "The accuracy of C with value 1.000000 is 85.993333%\n"
     ]
    }
   ],
   "source": [
    "acc_bow = accuracy_score(y_test, y_pred_avgw2v2, normalize=True) * float(100)\n",
    "print('\\nThe accuracy of C with value %f is %f%%' % (1, acc_bow))"
   ]
  },
  {
   "cell_type": "code",
   "execution_count": 60,
   "metadata": {},
   "outputs": [
    {
     "name": "stdout",
     "output_type": "stream",
     "text": [
      "The error for with C = 1 is \n"
     ]
    },
    {
     "data": {
      "text/plain": [
       "14.00666666666666"
      ]
     },
     "execution_count": 60,
     "metadata": {},
     "output_type": "execute_result"
    }
   ],
   "source": [
    "print (\"The error for with C = 1 is \")\n",
    "err_bow = 100-acc_bow\n",
    "err_bow"
   ]
  },
  {
   "cell_type": "markdown",
   "metadata": {},
   "source": [
    "# Random searchCV"
   ]
  },
  {
   "cell_type": "code",
   "execution_count": 100,
   "metadata": {},
   "outputs": [
    {
     "name": "stdout",
     "output_type": "stream",
     "text": [
      "LogisticRegression(C=8847.315281955944, class_weight=None, dual=False,\n",
      "          fit_intercept=True, intercept_scaling=1, max_iter=100,\n",
      "          multi_class='ovr', n_jobs=1, penalty='l2', random_state=None,\n",
      "          solver='liblinear', tol=0.0001, verbose=0, warm_start=False)\n",
      "The F1 score is :\n",
      "0.8127999994106273\n"
     ]
    }
   ],
   "source": [
    "tuned_parameters = {'C':stats.uniform(10**-4,10**4)}\n",
    "\n",
    "model = RandomizedSearchCV(LogisticRegression(), tuned_parameters, scoring = 'f1_weighted', cv=4)\n",
    "model.fit(X_train_avgw2v, y_train)\n",
    "\n",
    "\n",
    "print(model.best_estimator_)\n",
    "print (\"The F1 score is :\")\n",
    "print(model.score(X_test_avgw2v, y_test))\n"
   ]
  },
  {
   "cell_type": "markdown",
   "metadata": {},
   "source": [
    "# L1 Regularizer"
   ]
  },
  {
   "cell_type": "code",
   "execution_count": 102,
   "metadata": {},
   "outputs": [
    {
     "name": "stdout",
     "output_type": "stream",
     "text": [
      "The Weight with C = 8847.31 with L1 Reg is \n",
      "50\n"
     ]
    }
   ],
   "source": [
    "\n",
    "import numpy as np\n",
    "\n",
    "clf = LogisticRegression(C=8847.31, penalty='l1');\n",
    "clf.fit(X_train_avgw2v, y_train);\n",
    "y_pred_avgw2v3 = clf.predict(X_test_avgw2v)\n",
    "w = clf.coef_\n",
    "print (\"The Weight with C = 8847.31 with L1 Reg is \")\n",
    "print(np.count_nonzero(w))\n"
   ]
  },
  {
   "cell_type": "code",
   "execution_count": 103,
   "metadata": {},
   "outputs": [
    {
     "data": {
      "text/plain": [
       "(0.8315454508334533, 0.8604333333333334, 0.8146294636318775, None)"
      ]
     },
     "execution_count": 103,
     "metadata": {},
     "output_type": "execute_result"
    }
   ],
   "source": [
    "from sklearn.metrics import precision_recall_fscore_support\n",
    "precision_recall_fscore_support(y_test, y_pred_avgw2v3, average='weighted')#Generating Values for Precision,Recall and Fscore"
   ]
  },
  {
   "cell_type": "code",
   "execution_count": 104,
   "metadata": {},
   "outputs": [
    {
     "data": {
      "image/png": "[encoded data removed]",
      "text/plain": [
       "<Figure size 432x288 with 2 Axes>"
      ]
     },
     "metadata": {},
     "output_type": "display_data"
    }
   ],
   "source": [
    "plot_confusion_matrix(confusion_matrix(y_test, y_pred_avgw2v3), classes=[\"Negative\",\"Positive\"])#Passing Parameters in fn to predict values."
   ]
  },
  {
   "cell_type": "code",
   "execution_count": 105,
   "metadata": {},
   "outputs": [
    {
     "name": "stdout",
     "output_type": "stream",
     "text": [
      "\n",
      "The accuracy of C with value 8847.310000 is 86.043333%\n"
     ]
    }
   ],
   "source": [
    "acc_bow = accuracy_score(y_test, y_pred_avgw2v3, normalize=True) * float(100)\n",
    "print('\\nThe accuracy of C with value %f is %f%%' % (8847.31, acc_bow))"
   ]
  },
  {
   "cell_type": "code",
   "execution_count": 106,
   "metadata": {},
   "outputs": [
    {
     "name": "stdout",
     "output_type": "stream",
     "text": [
      "The error for with C = 8847.31 is \n"
     ]
    },
    {
     "data": {
      "text/plain": [
       "13.956666666666663"
      ]
     },
     "execution_count": 106,
     "metadata": {},
     "output_type": "execute_result"
    }
   ],
   "source": [
    "print (\"The error for with C = 8847.31 is \")\n",
    "err_bow = 100-acc_bow\n",
    "err_bow"
   ]
  },
  {
   "cell_type": "markdown",
   "metadata": {},
   "source": [
    "# L2 Regularizer"
   ]
  },
  {
   "cell_type": "code",
   "execution_count": 107,
   "metadata": {},
   "outputs": [
    {
     "name": "stdout",
     "output_type": "stream",
     "text": [
      "The Weight with C = 8847.31 with L1 Reg is \n",
      "50\n"
     ]
    }
   ],
   "source": [
    "\n",
    "import numpy as np\n",
    "\n",
    "clf = LogisticRegression(C=8847.31, penalty='l2');\n",
    "clf.fit(X_train_avgw2v, y_train);\n",
    "y_pred_avgw2v4 = clf.predict(X_test_avgw2v)\n",
    "w = clf.coef_\n",
    "print (\"The Weight with C = 8847.31 with L1 Reg is \")\n",
    "print(np.count_nonzero(w))\n"
   ]
  },
  {
   "cell_type": "code",
   "execution_count": 108,
   "metadata": {},
   "outputs": [
    {
     "data": {
      "text/plain": [
       "(0.8305849465191899, 0.8599333333333333, 0.8127999994106273, None)"
      ]
     },
     "execution_count": 108,
     "metadata": {},
     "output_type": "execute_result"
    }
   ],
   "source": [
    "from sklearn.metrics import precision_recall_fscore_support\n",
    "precision_recall_fscore_support(y_test, y_pred_avgw2v4, average='weighted')#Generating Values for Precision,Recall and Fscore"
   ]
  },
  {
   "cell_type": "code",
   "execution_count": 109,
   "metadata": {},
   "outputs": [
    {
     "data": {
      "image/png": "[encoded data removed]",
      "text/plain": [
       "<Figure size 432x288 with 2 Axes>"
      ]
     },
     "metadata": {},
     "output_type": "display_data"
    }
   ],
   "source": [
    "plot_confusion_matrix(confusion_matrix(y_test, y_pred_avgw2v4), classes=[\"Negative\",\"Positive\"])#Passing Parameters in fn to predict values."
   ]
  },
  {
   "cell_type": "code",
   "execution_count": 110,
   "metadata": {},
   "outputs": [
    {
     "name": "stdout",
     "output_type": "stream",
     "text": [
      "\n",
      "The accuracy of C with value 8847.310000 is 88.613333%\n"
     ]
    }
   ],
   "source": [
    "acc_bow = accuracy_score(y_test, y_pred_tfidf4, normalize=True) * float(100)\n",
    "print('\\nThe accuracy of C with value %f is %f%%' % (8847.31, acc_bow))"
   ]
  },
  {
   "cell_type": "code",
   "execution_count": 111,
   "metadata": {},
   "outputs": [
    {
     "name": "stdout",
     "output_type": "stream",
     "text": [
      "The error for with C = 8847.31 is \n"
     ]
    },
    {
     "data": {
      "text/plain": [
       "11.38666666666667"
      ]
     },
     "execution_count": 111,
     "metadata": {},
     "output_type": "execute_result"
    }
   ],
   "source": [
    "print (\"The error for with C = 8847.31 is \")\n",
    "err_bow = 100-acc_bow\n",
    "err_bow"
   ]
  },
  {
   "cell_type": "markdown",
   "metadata": {},
   "source": [
    "# Conclusion for AVGW2V"
   ]
  },
  {
   "cell_type": "markdown",
   "metadata": {},
   "source": [
    "| Parameters | SearchCV |  Value of C   | F1 Score | Weight W  | Accuracy | Error\n",
    "|------------|--------|\n",
    "|  L1     |  GridsearchCV  | 1 | 0.81 | 50 | 86.04 | 13.95 \n",
    "|  L2    |  GridSearchCV | 1 | 0.82 | 50 | 85.99 | 14.00\n",
    "|  L1     |  RandomsearchCV  | 8847.31 | 0.81 | 50 | 86.04 | 13.95 \n",
    "|  L2    |  RandomsearchCV | 8847.31 | 0.82 | 50 | 88.61 | 11.38\n",
    "\n",
    "\n"
   ]
  },
  {
   "cell_type": "markdown",
   "metadata": {},
   "source": [
    "### Observation : All the values are same irrespective of model or parameters.The Weight,Accuracy and value of C remains same all over."
   ]
  },
  {
   "cell_type": "markdown",
   "metadata": {},
   "source": [
    "# Avg TF-IDF Word2Vec "
   ]
  },
  {
   "cell_type": "code",
   "execution_count": 57,
   "metadata": {},
   "outputs": [],
   "source": [
    "model = TfidfVectorizer()\n",
    "tf_idf_matrix = model.fit_transform(x_train)\n",
    "# we are converting a dictionary with word as a key, and the idf as a value\n",
    "dictionary = dict(zip(model.get_feature_names(), list(model.idf_)))"
   ]
  },
  {
   "cell_type": "code",
   "execution_count": 58,
   "metadata": {},
   "outputs": [],
   "source": [
    "tfidf_feat = tf_idf_vect.get_feature_names()#getting feature list"
   ]
  },
  {
   "cell_type": "code",
   "execution_count": 59,
   "metadata": {},
   "outputs": [
    {
     "name": "stderr",
     "output_type": "stream",
     "text": [
      "100%|███████████████████████████████████████████████████████████████████████████| 70000/70000 [02:27<00:00, 473.51it/s]\n"
     ]
    },
    {
     "name": "stdout",
     "output_type": "stream",
     "text": [
      "70000\n",
      "50\n"
     ]
    }
   ],
   "source": [
    "from tqdm import tqdm\n",
    "tfidf_sent_vectors_train = []; # the tfidf-w2v for each sentence/review is stored in this list\n",
    "row=0;\n",
    "for sent in tqdm(list_of_sent_train): # for each review/sentence \n",
    "    sent_vec = np.zeros(50) # as word vectors are of zero length\n",
    "    weight_sum =0; # num of words with a valid vector in the sentence/review\n",
    "    for word in sent: # for each word in a review/sentence\n",
    "        if word in w2v_words_train:\n",
    "            vec = w2v_model_train.wv[word]\n",
    "#             tf_idf = tf_idf_matrix[row, tfidf_feat.index(word)]\n",
    "            # to reduce the computation we are \n",
    "            # dictionary[word] = idf value of word in whole courpus\n",
    "            # sent.count(word) = tf valeus of word in this review\n",
    "            tf_idf = dictionary[word]*(sent.count(word)/len(sent))#taking the dictionary to train words to plt vector. \n",
    "            sent_vec += (vec * tf_idf)\n",
    "            weight_sum += tf_idf\n",
    "    if weight_sum != 0:\n",
    "        sent_vec /= weight_sum\n",
    "    tfidf_sent_vectors_train.append(sent_vec)\n",
    "    row += 1\n",
    "\n",
    "print(len(tfidf_sent_vectors_train))\n",
    "print(len(tfidf_sent_vectors_train[0]))"
   ]
  },
  {
   "cell_type": "code",
   "execution_count": 60,
   "metadata": {},
   "outputs": [],
   "source": [
    "model = TfidfVectorizer(ngram_range=(1,2))\n",
    "tf_idf_matrix = model.fit_transform(x_test)\n",
    "# we are converting a dictionary with word as a key, and the idf as a value\n",
    "dictionary_test = dict(zip(model.get_feature_names(), list(model.idf_)))"
   ]
  },
  {
   "cell_type": "code",
   "execution_count": 61,
   "metadata": {},
   "outputs": [
    {
     "name": "stderr",
     "output_type": "stream",
     "text": [
      "100%|███████████████████████████████████████████████████████████████████████████| 30000/30000 [00:48<00:00, 622.45it/s]\n"
     ]
    },
    {
     "name": "stdout",
     "output_type": "stream",
     "text": [
      "30000\n",
      "50\n"
     ]
    }
   ],
   "source": [
    "#test corpus\n",
    "tfidf_sent_vectors_test = []; # the tfidf-w2v for each sentence/review is stored in this list\n",
    "row=0;\n",
    "for sent in tqdm(list_of_sent_test): # for each review/sentence \n",
    "    sent_vec = np.zeros(50) # as word vectors are of zero length\n",
    "    weight_sum =0; # num of words with a valid vector in the sentence/review\n",
    "    for word in sent: # for each word in a review/sentence\n",
    "        if word in w2v_words_test:\n",
    "            vec = w2v_model_test.wv[word]\n",
    "#             tf_idf = tf_idf_matrix[row, tfidf_feat.index(word)]\n",
    "            # to reduce the computation we are \n",
    "            # dictionary[word] = idf value of word in whole courpus\n",
    "            # sent.count(word) = tf valeus of word in this review\n",
    "            tf_idf = dictionary_test[word]*(sent.count(word)/len(sent))\n",
    "            sent_vec += (vec * tf_idf)\n",
    "            weight_sum += tf_idf\n",
    "    if weight_sum != 0:\n",
    "        sent_vec /= weight_sum\n",
    "    tfidf_sent_vectors_test.append(sent_vec)\n",
    "    row += 1\n",
    "\n",
    "print(len(tfidf_sent_vectors_test))\n",
    "print(len(tfidf_sent_vectors_test[0]))"
   ]
  },
  {
   "cell_type": "code",
   "execution_count": 62,
   "metadata": {},
   "outputs": [],
   "source": [
    "scaler = preprocessing.StandardScaler(copy=True, with_mean=False, with_std=True)\n",
    "X_train_avgw2v_tfidf = scaler.fit_transform(tfidf_sent_vectors_train)\n",
    "X_test_avgw2v_tfidf = scaler.fit_transform(tfidf_sent_vectors_test)"
   ]
  },
  {
   "cell_type": "markdown",
   "metadata": {},
   "source": [
    "# GridSearchCV"
   ]
  },
  {
   "cell_type": "code",
   "execution_count": 67,
   "metadata": {},
   "outputs": [
    {
     "name": "stdout",
     "output_type": "stream",
     "text": [
      "LogisticRegression(C=1, class_weight=None, dual=False, fit_intercept=True,\n",
      "          intercept_scaling=1, max_iter=100, multi_class='ovr', n_jobs=1,\n",
      "          penalty='l2', random_state=None, solver='liblinear', tol=0.0001,\n",
      "          verbose=0, warm_start=False)\n",
      "The F1 score is :\n",
      "0.8027908474552626\n"
     ]
    }
   ],
   "source": [
    "\n",
    "\n",
    "tuned_parameters = [{'C': [10**-4, 10**-2, 10**0, 10**2, 10**4]}]\n",
    "\n",
    "model = GridSearchCV(LogisticRegression(), tuned_parameters, scoring = 'f1_weighted', cv=4)\n",
    "model.fit(X_train_avgw2v_tfidf, y_train)\n",
    "\n",
    "\n",
    "print(model.best_estimator_)\n",
    "print (\"The F1 score is :\")\n",
    "print(model.score(X_test_avgw2v_tfidf, y_test))"
   ]
  },
  {
   "cell_type": "markdown",
   "metadata": {},
   "source": [
    "# L1 regularizer"
   ]
  },
  {
   "cell_type": "code",
   "execution_count": 123,
   "metadata": {},
   "outputs": [
    {
     "name": "stdout",
     "output_type": "stream",
     "text": [
      "The Weight with C = 1 with L1 Reg is \n",
      "50\n"
     ]
    }
   ],
   "source": [
    "\n",
    "import numpy as np\n",
    "\n",
    "clf = LogisticRegression(C=1, penalty='l1');\n",
    "clf.fit(X_train_avgw2v_tfidf, y_train);\n",
    "y_pred_avgw2v_tfidf = clf.predict(X_test_avgw2v_tfidf)\n",
    "w = clf.coef_\n",
    "print (\"The Weight with C = 1 with L1 Reg is \")\n",
    "print(np.count_nonzero(w))\n"
   ]
  },
  {
   "cell_type": "code",
   "execution_count": 69,
   "metadata": {},
   "outputs": [
    {
     "data": {
      "text/plain": [
       "(0.7968137415993272, 0.8498, 0.8030437383254847, None)"
      ]
     },
     "execution_count": 69,
     "metadata": {},
     "output_type": "execute_result"
    }
   ],
   "source": [
    "from sklearn.metrics import precision_recall_fscore_support\n",
    "precision_recall_fscore_support(y_test, y_pred_avgw2v_tfidf, average='weighted')#Generating Values for Precision,Recall and Fscore"
   ]
  },
  {
   "cell_type": "code",
   "execution_count": 70,
   "metadata": {},
   "outputs": [
    {
     "data": {
      "image/png": "[encoded data removed]",
      "text/plain": [
       "<Figure size 432x288 with 2 Axes>"
      ]
     },
     "metadata": {},
     "output_type": "display_data"
    }
   ],
   "source": [
    "plot_confusion_matrix(confusion_matrix(y_test, y_pred_avgw2v_tfidf), classes=[\"Negative\",\"Positive\"])#Passing Parameters in fn to predict values."
   ]
  },
  {
   "cell_type": "code",
   "execution_count": 71,
   "metadata": {},
   "outputs": [
    {
     "name": "stdout",
     "output_type": "stream",
     "text": [
      "\n",
      "The accuracy of C with value 100.000000 is 84.980000%\n"
     ]
    }
   ],
   "source": [
    "acc_bow = accuracy_score(y_test, y_pred_avgw2v_tfidf, normalize=True) * float(100)\n",
    "print('\\nThe accuracy of C with value %f is %f%%' % (1, acc_bow))"
   ]
  },
  {
   "cell_type": "code",
   "execution_count": 124,
   "metadata": {},
   "outputs": [
    {
     "name": "stdout",
     "output_type": "stream",
     "text": [
      "The error for with C = 1 is \n"
     ]
    },
    {
     "data": {
      "text/plain": [
       "15.030000000000001"
      ]
     },
     "execution_count": 124,
     "metadata": {},
     "output_type": "execute_result"
    }
   ],
   "source": [
    "print (\"The error for with C = 1 is \")\n",
    "err_bow = 100-acc_bow\n",
    "err_bow"
   ]
  },
  {
   "cell_type": "markdown",
   "metadata": {},
   "source": [
    "# L2 Regularizer"
   ]
  },
  {
   "cell_type": "code",
   "execution_count": 125,
   "metadata": {},
   "outputs": [
    {
     "name": "stdout",
     "output_type": "stream",
     "text": [
      "The Weight with C = 1 with L2 Reg\n",
      "50\n"
     ]
    }
   ],
   "source": [
    "\n",
    "import numpy as np\n",
    "\n",
    "clf = LogisticRegression(C=1, penalty='l2');\n",
    "clf.fit(X_train_avgw2v_tfidf, y_train);\n",
    "y_pred_avgw2v_tfidf2 = clf.predict(X_test_avgw2v_tfidf)\n",
    "w = clf.coef_\n",
    "print (\"The Weight with C = 1 with L2 Reg\")\n",
    "print(np.count_nonzero(w))\n"
   ]
  },
  {
   "cell_type": "code",
   "execution_count": 74,
   "metadata": {},
   "outputs": [
    {
     "data": {
      "text/plain": [
       "(0.7958877253333349, 0.8497, 0.8023762578482575, None)"
      ]
     },
     "execution_count": 74,
     "metadata": {},
     "output_type": "execute_result"
    }
   ],
   "source": [
    "from sklearn.metrics import precision_recall_fscore_support\n",
    "precision_recall_fscore_support(y_test, y_pred_avgw2v_tfidf2, average='weighted')#Generating Values for Precision,Recall and Fscore"
   ]
  },
  {
   "cell_type": "code",
   "execution_count": 75,
   "metadata": {},
   "outputs": [
    {
     "data": {
      "image/png": "[encoded data removed]",
      "text/plain": [
       "<Figure size 432x288 with 2 Axes>"
      ]
     },
     "metadata": {},
     "output_type": "display_data"
    }
   ],
   "source": [
    "plot_confusion_matrix(confusion_matrix(y_test, y_pred_avgw2v_tfidf2), classes=[\"Negative\",\"Positive\"])#Passing Parameters in fn to predict values."
   ]
  },
  {
   "cell_type": "code",
   "execution_count": 126,
   "metadata": {},
   "outputs": [
    {
     "name": "stdout",
     "output_type": "stream",
     "text": [
      "\n",
      "The accuracy of C with value 1.000000 is 84.976667%\n"
     ]
    }
   ],
   "source": [
    "acc_bow = accuracy_score(y_test, y_pred_avgw2v_tfidf2, normalize=True) * float(100)\n",
    "print('\\nThe accuracy of C with value %f is %f%%' % (1, acc_bow))"
   ]
  },
  {
   "cell_type": "code",
   "execution_count": 127,
   "metadata": {},
   "outputs": [
    {
     "name": "stdout",
     "output_type": "stream",
     "text": [
      "The error for with C = 1 is \n"
     ]
    },
    {
     "data": {
      "text/plain": [
       "15.023333333333326"
      ]
     },
     "execution_count": 127,
     "metadata": {},
     "output_type": "execute_result"
    }
   ],
   "source": [
    "print (\"The error for with C = 1 is \")\n",
    "err_bow = 100-acc_bow\n",
    "err_bow"
   ]
  },
  {
   "cell_type": "markdown",
   "metadata": {},
   "source": [
    "# Random SearchCV"
   ]
  },
  {
   "cell_type": "code",
   "execution_count": 101,
   "metadata": {},
   "outputs": [
    {
     "name": "stdout",
     "output_type": "stream",
     "text": [
      "LogisticRegression(C=6268.973290001382, class_weight=None, dual=False,\n",
      "          fit_intercept=True, intercept_scaling=1, max_iter=100,\n",
      "          multi_class='ovr', n_jobs=1, penalty='l2', random_state=None,\n",
      "          solver='liblinear', tol=0.0001, verbose=0, warm_start=False)\n",
      "The F1 score is :\n",
      "0.8023762578482575\n"
     ]
    }
   ],
   "source": [
    "tuned_parameters = {'C':stats.uniform(10**-4,10**4)}\n",
    "\n",
    "model = RandomizedSearchCV(LogisticRegression(), tuned_parameters, scoring = 'f1_weighted', cv=4)\n",
    "model.fit(X_train_avgw2v_tfidf, y_train)\n",
    "\n",
    "\n",
    "print(model.best_estimator_)\n",
    "print (\"The F1 score is :\")\n",
    "print(model.score(X_test_avgw2v_tfidf, y_test))\n"
   ]
  },
  {
   "cell_type": "markdown",
   "metadata": {},
   "source": [
    "# L1 Regularizer"
   ]
  },
  {
   "cell_type": "code",
   "execution_count": 112,
   "metadata": {},
   "outputs": [
    {
     "name": "stdout",
     "output_type": "stream",
     "text": [
      "The Weight with C = 6268.97 with L1 Reg is \n",
      "50\n"
     ]
    }
   ],
   "source": [
    "\n",
    "import numpy as np\n",
    "\n",
    "clf = LogisticRegression(C=6268.97, penalty='l1');\n",
    "clf.fit(X_train_avgw2v_tfidf, y_train);\n",
    "y_pred_avgw2v_tfidf3 = clf.predict(X_test_avgw2v_tfidf)\n",
    "w = clf.coef_\n",
    "print (\"The Weight with C = 6268.97 with L1 Reg is \")\n",
    "print(np.count_nonzero(w))\n"
   ]
  },
  {
   "cell_type": "code",
   "execution_count": 113,
   "metadata": {},
   "outputs": [
    {
     "data": {
      "text/plain": [
       "(0.7958362969948735, 0.8496333333333334, 0.8024290689412801, None)"
      ]
     },
     "execution_count": 113,
     "metadata": {},
     "output_type": "execute_result"
    }
   ],
   "source": [
    "from sklearn.metrics import precision_recall_fscore_support\n",
    "precision_recall_fscore_support(y_test, y_pred_avgw2v_tfidf3, average='weighted')#Generating Values for Precision,Recall and Fscore"
   ]
  },
  {
   "cell_type": "code",
   "execution_count": 114,
   "metadata": {},
   "outputs": [
    {
     "data": {
      "image/png": "[encoded data removed]",
      "text/plain": [
       "<Figure size 432x288 with 2 Axes>"
      ]
     },
     "metadata": {},
     "output_type": "display_data"
    }
   ],
   "source": [
    "plot_confusion_matrix(confusion_matrix(y_test, y_pred_avgw2v_tfidf3), classes=[\"Negative\",\"Positive\"])#Passing Parameters in fn to predict values."
   ]
  },
  {
   "cell_type": "code",
   "execution_count": 116,
   "metadata": {},
   "outputs": [
    {
     "name": "stdout",
     "output_type": "stream",
     "text": [
      "\n",
      "The accuracy of C with value 6268.970000 is 84.963333%\n"
     ]
    }
   ],
   "source": [
    "acc_bow = accuracy_score(y_test, y_pred_avgw2v_tfidf3, normalize=True) * float(100)\n",
    "print('\\nThe accuracy of C with value %f is %f%%' % (6268.97, acc_bow))"
   ]
  },
  {
   "cell_type": "code",
   "execution_count": 117,
   "metadata": {},
   "outputs": [
    {
     "name": "stdout",
     "output_type": "stream",
     "text": [
      "The error for with C = 6268.97 is \n"
     ]
    },
    {
     "data": {
      "text/plain": [
       "15.036666666666662"
      ]
     },
     "execution_count": 117,
     "metadata": {},
     "output_type": "execute_result"
    }
   ],
   "source": [
    "print (\"The error for with C = 6268.97 is \")\n",
    "err_bow = 100-acc_bow\n",
    "err_bow"
   ]
  },
  {
   "cell_type": "markdown",
   "metadata": {},
   "source": [
    "# L2 Regularizer"
   ]
  },
  {
   "cell_type": "code",
   "execution_count": 118,
   "metadata": {},
   "outputs": [
    {
     "name": "stdout",
     "output_type": "stream",
     "text": [
      "The Weight with C = 6268.97 with L2 Reg\n",
      "50\n"
     ]
    }
   ],
   "source": [
    "\n",
    "\n",
    "clf = LogisticRegression(C=6268.97, penalty='l2');\n",
    "clf.fit(X_train_avgw2v_tfidf, y_train);\n",
    "y_pred_avgw2v_tfidf4 = clf.predict(X_test_avgw2v_tfidf)\n",
    "w = clf.coef_\n",
    "print (\"The Weight with C = 6268.97 with L2 Reg\")\n",
    "print(np.count_nonzero(w))\n"
   ]
  },
  {
   "cell_type": "code",
   "execution_count": 119,
   "metadata": {},
   "outputs": [
    {
     "data": {
      "text/plain": [
       "(0.7958877253333349, 0.8497, 0.8023762578482575, None)"
      ]
     },
     "execution_count": 119,
     "metadata": {},
     "output_type": "execute_result"
    }
   ],
   "source": [
    "from sklearn.metrics import precision_recall_fscore_support\n",
    "precision_recall_fscore_support(y_test, y_pred_avgw2v_tfidf4, average='weighted')#Generating Values for Precision,Recall and Fscore"
   ]
  },
  {
   "cell_type": "code",
   "execution_count": 120,
   "metadata": {},
   "outputs": [
    {
     "data": {
      "image/png": "[encoded data removed]",
      "text/plain": [
       "<Figure size 432x288 with 2 Axes>"
      ]
     },
     "metadata": {},
     "output_type": "display_data"
    }
   ],
   "source": [
    "plot_confusion_matrix(confusion_matrix(y_test, y_pred_avgw2v_tfidf4), classes=[\"Negative\",\"Positive\"])#Passing Parameters in fn to predict values."
   ]
  },
  {
   "cell_type": "code",
   "execution_count": 121,
   "metadata": {},
   "outputs": [
    {
     "name": "stdout",
     "output_type": "stream",
     "text": [
      "\n",
      "The accuracy of C with value 6268.970000 is 84.970000%\n"
     ]
    }
   ],
   "source": [
    "acc_bow = accuracy_score(y_test, y_pred_avgw2v_tfidf4, normalize=True) * float(100)\n",
    "print('\\nThe accuracy of C with value %f is %f%%' % (6268.97, acc_bow))"
   ]
  },
  {
   "cell_type": "code",
   "execution_count": 122,
   "metadata": {},
   "outputs": [
    {
     "name": "stdout",
     "output_type": "stream",
     "text": [
      "The error for with C = 6268.97 is \n"
     ]
    },
    {
     "data": {
      "text/plain": [
       "15.030000000000001"
      ]
     },
     "execution_count": 122,
     "metadata": {},
     "output_type": "execute_result"
    }
   ],
   "source": [
    "print (\"The error for with C = 6268.97 is \")\n",
    "err_bow = 100-acc_bow\n",
    "err_bow"
   ]
  },
  {
   "cell_type": "markdown",
   "metadata": {},
   "source": [
    "# Conclusion for AVGW2V TFIDF"
   ]
  },
  {
   "cell_type": "markdown",
   "metadata": {},
   "source": [
    "| Parameters | SearchCV |  Value of C   | F1 Score | Weight W  | Accuracy | Error\n",
    "|------------|--------|\n",
    "|  L1     |  GridsearchCV  | 1 | 0.80 | 50 | 84.98 | 15.01\n",
    "|  L2    |  GridSearchCV | 1 | 0.80 | 50 | 84.97 | 15.02\n",
    "|  L1     |  RandomsearchCV  | 6268.97 | 0.80 | 50 | 84.94 | 15.03 \n",
    "|  L2    |  RandomsearchCV | 6268.97 | 0.80 | 50 | 84.96 | 15.03\n",
    "\n",
    "\n"
   ]
  },
  {
   "cell_type": "markdown",
   "metadata": {},
   "source": [
    "### Observation : The F1 score is same for all models and parameters.We can use gridsearchCV or RandomSearchCV for this classifier.The values remains same."
   ]
  },
  {
   "cell_type": "markdown",
   "metadata": {},
   "source": [
    "# Pertubation test on  Bag of Words for Logistic Regression"
   ]
  },
  {
   "cell_type": "code",
   "execution_count": 78,
   "metadata": {},
   "outputs": [
    {
     "name": "stdout",
     "output_type": "stream",
     "text": [
      "The Weight with C = 0.01 with L2 Reg\n",
      "31512\n"
     ]
    }
   ],
   "source": [
    "clf = LogisticRegression(C=0.01, penalty='l2');\n",
    "clf.fit(X1_train, y_train);\n",
    "y1_pred = clf.predict(X1_test)\n",
    "w = clf.coef_\n",
    "print (\"The Weight with C = 0.01 with L2 Reg\")\n",
    "print(np.count_nonzero(w))\n"
   ]
  },
  {
   "cell_type": "code",
   "execution_count": 79,
   "metadata": {},
   "outputs": [
    {
     "name": "stdout",
     "output_type": "stream",
     "text": [
      "\n",
      "The accuracy of C with value 0.010000 is 90.256667%\n"
     ]
    }
   ],
   "source": [
    "acc_bow = accuracy_score(y_test, y1_pred, normalize=True) * float(100)\n",
    "print('\\nThe accuracy of C with value %f is %f%%' % (0.01, acc_bow))"
   ]
  },
  {
   "cell_type": "code",
   "execution_count": 80,
   "metadata": {},
   "outputs": [],
   "source": [
    "X1_train.data = X1_train.data + 0.01"
   ]
  },
  {
   "cell_type": "code",
   "execution_count": 81,
   "metadata": {},
   "outputs": [
    {
     "name": "stdout",
     "output_type": "stream",
     "text": [
      "The Weight with C = 0.01 with L2 Reg\n",
      "31512\n"
     ]
    }
   ],
   "source": [
    "clf = LogisticRegression(C=0.01, penalty='l2');\n",
    "clf.fit(X1_train, y_train);\n",
    "y1_pred = clf.predict(X1_test)\n",
    "w1 = clf.coef_\n",
    "print (\"The Weight with C = 0.01 with L2 Reg\")\n",
    "w1 = np.count_nonzero(w)\n",
    "print(w1)\n"
   ]
  },
  {
   "cell_type": "code",
   "execution_count": 82,
   "metadata": {},
   "outputs": [
    {
     "name": "stdout",
     "output_type": "stream",
     "text": [
      "\n",
      "The accuracy of C with value 0.010000 is 90.246667%\n"
     ]
    }
   ],
   "source": [
    "acc_bow = accuracy_score(y_test, y1_pred, normalize=True) * float(100)\n",
    "print('\\nThe accuracy of C with value %f is %f%%' % (0.01, acc_bow))"
   ]
  },
  {
   "cell_type": "code",
   "execution_count": 83,
   "metadata": {},
   "outputs": [],
   "source": [
    "weights_difference = ((abs(w-w1)/w)*100)"
   ]
  },
  {
   "cell_type": "code",
   "execution_count": 84,
   "metadata": {},
   "outputs": [
    {
     "name": "stdout",
     "output_type": "stream",
     "text": [
      "[[ 1.28176794e+11 -1.16974487e+09  3.38940525e+09 ...  7.09543342e+09\n",
      "   3.23623563e+09  1.36165500e+09]]\n"
     ]
    }
   ],
   "source": [
    "print (weights_difference)"
   ]
  },
  {
   "cell_type": "code",
   "execution_count": 85,
   "metadata": {},
   "outputs": [
    {
     "name": "stdout",
     "output_type": "stream",
     "text": [
      "20413\n"
     ]
    }
   ],
   "source": [
    "print(weights_difference[np.where(weights_difference > 20)].size)"
   ]
  },
  {
   "cell_type": "markdown",
   "metadata": {},
   "source": [
    "# Conclusion for Pertubation test  \n",
    "### 1. 20413 features have wieght changes or different weight greater than 20%.\n",
    "### 2. They are Multi - Collinear, So we will not take W to depict Feature importance."
   ]
  },
  {
   "cell_type": "markdown",
   "metadata": {},
   "source": [
    "## Changing values of C"
   ]
  },
  {
   "cell_type": "code",
   "execution_count": 86,
   "metadata": {},
   "outputs": [
    {
     "name": "stdout",
     "output_type": "stream",
     "text": [
      "The Weight with C = 0.01 with L2 Reg\n",
      "15546\n"
     ]
    }
   ],
   "source": [
    "clf = LogisticRegression(C=100, penalty='l1');\n",
    "clf.fit(X1_train, y_train);\n",
    "y1_pred = clf.predict(X1_test)\n",
    "w = clf.coef_\n",
    "print (\"The Weight with C = 0.01 with L2 Reg\")\n",
    "print(np.count_nonzero(w))\n"
   ]
  },
  {
   "cell_type": "code",
   "execution_count": 87,
   "metadata": {},
   "outputs": [
    {
     "name": "stdout",
     "output_type": "stream",
     "text": [
      "\n",
      "The accuracy of C with value 100.000000 is 86.366667%\n"
     ]
    }
   ],
   "source": [
    "acc_bow = accuracy_score(y_test, y1_pred, normalize=True) * float(100)\n",
    "print('\\nThe accuracy of C with value %f is %f%%' % (100, acc_bow))"
   ]
  },
  {
   "cell_type": "code",
   "execution_count": 88,
   "metadata": {},
   "outputs": [
    {
     "name": "stdout",
     "output_type": "stream",
     "text": [
      "The Weight with C = 0.01 with L2 Reg\n",
      "15201\n"
     ]
    }
   ],
   "source": [
    "clf = LogisticRegression(C=50, penalty='l1');\n",
    "clf.fit(X1_train, y_train);\n",
    "y_pred_test = clf.predict(X1_test)\n",
    "w = clf.coef_\n",
    "print (\"The Weight with C = 0.01 with L2 Reg\")\n",
    "print(np.count_nonzero(w))\n"
   ]
  },
  {
   "cell_type": "markdown",
   "metadata": {},
   "source": [
    "### Observations : As the Value of C decreases, the Lambda would increases, So our Weight decreases with increase in sparsity with increase in bias with our model being of low Latency"
   ]
  }
 ],
 "metadata": {
  "kernelspec": {
   "display_name": "Python 3",
   "language": "python",
   "name": "python3"
  },
  "language_info": {
   "codemirror_mode": {
    "name": "ipython",
    "version": 3
   },
   "file_extension": ".py",
   "mimetype": "text/x-python",
   "name": "python",
   "nbconvert_exporter": "python",
   "pygments_lexer": "ipython3",
   "version": "3.6.5"
  }
 },
 "nbformat": 4,
 "nbformat_minor": 2
}
